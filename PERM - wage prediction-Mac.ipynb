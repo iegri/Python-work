{
 "cells": [
  {
   "cell_type": "code",
   "execution_count": 4,
   "metadata": {},
   "outputs": [],
   "source": [
    "import pandas as pd\n",
    "import numpy as np\n",
    "import seaborn as sns\n",
    "import matplotlib.pyplot as plt\n",
    "%matplotlib inline"
   ]
  },
  {
   "cell_type": "code",
   "execution_count": 123,
   "metadata": {},
   "outputs": [],
   "source": [
    "data='/Users/poyraz/Google Drive/Data Science/Projects/PERM/perm2.xlsx'"
   ]
  },
  {
   "cell_type": "code",
   "execution_count": null,
   "metadata": {},
   "outputs": [],
   "source": []
  },
  {
   "cell_type": "code",
   "execution_count": 124,
   "metadata": {},
   "outputs": [],
   "source": [
    "#windows\n",
    "#da= \"C:\\\\Users\\opoyraz\\Google Drive\\Data Science\\Projects\\PERM\\perm2.xlsx\""
   ]
  },
  {
   "cell_type": "code",
   "execution_count": 125,
   "metadata": {},
   "outputs": [],
   "source": [
    "df=pd.read_excel(data)"
   ]
  },
  {
   "cell_type": "code",
   "execution_count": 126,
   "metadata": {},
   "outputs": [
    {
     "data": {
      "text/html": [
       "<div>\n",
       "<style scoped>\n",
       "    .dataframe tbody tr th:only-of-type {\n",
       "        vertical-align: middle;\n",
       "    }\n",
       "\n",
       "    .dataframe tbody tr th {\n",
       "        vertical-align: top;\n",
       "    }\n",
       "\n",
       "    .dataframe thead th {\n",
       "        text-align: right;\n",
       "    }\n",
       "</style>\n",
       "<table border=\"1\" class=\"dataframe\">\n",
       "  <thead>\n",
       "    <tr style=\"text-align: right;\">\n",
       "      <th></th>\n",
       "      <th>CASE_NUMBER</th>\n",
       "      <th>DECISION_DATE</th>\n",
       "      <th>CASE_STATUS</th>\n",
       "      <th>CASE_RECEIVED_DATE</th>\n",
       "      <th>EMPLOYER_NAME</th>\n",
       "      <th>EMPLOYER_STATE</th>\n",
       "      <th>EMPLOYER_COUNTRY</th>\n",
       "      <th>EMPLOYER_NUM_EMPLOYEES</th>\n",
       "      <th>EMPLOYER_YR_ESTAB</th>\n",
       "      <th>wage_level</th>\n",
       "      <th>wage_offer</th>\n",
       "      <th>wage_unit</th>\n",
       "      <th>job_title</th>\n",
       "      <th>JOB_INFO_EDUCATION</th>\n",
       "      <th>JOB_INFO_EXPERIENCE_NUM_MONTHS</th>\n",
       "      <th>COUNTRY_OF_CITIZENSHIP</th>\n",
       "    </tr>\n",
       "  </thead>\n",
       "  <tbody>\n",
       "    <tr>\n",
       "      <th>0</th>\n",
       "      <td>A-17268-91243</td>\n",
       "      <td>2017-10-01</td>\n",
       "      <td>Withdrawn</td>\n",
       "      <td>2017-09-29</td>\n",
       "      <td>DATA MEANING SERVICES GROUP</td>\n",
       "      <td>FL</td>\n",
       "      <td>UNITED STATES OF AMERICA</td>\n",
       "      <td>29.0</td>\n",
       "      <td>2010.0</td>\n",
       "      <td>Level III</td>\n",
       "      <td>82368</td>\n",
       "      <td>Year</td>\n",
       "      <td>Web Architect</td>\n",
       "      <td>None</td>\n",
       "      <td>24.0</td>\n",
       "      <td>BRAZIL</td>\n",
       "    </tr>\n",
       "    <tr>\n",
       "      <th>1</th>\n",
       "      <td>A-17268-91198</td>\n",
       "      <td>2017-10-01</td>\n",
       "      <td>Withdrawn</td>\n",
       "      <td>2017-09-29</td>\n",
       "      <td>NOVO NORDISK INC.</td>\n",
       "      <td>NJ</td>\n",
       "      <td>UNITED STATES OF AMERICA</td>\n",
       "      <td>5234.0</td>\n",
       "      <td>1982.0</td>\n",
       "      <td>NaN</td>\n",
       "      <td>100900</td>\n",
       "      <td>Year</td>\n",
       "      <td>Senior Systems Analyst</td>\n",
       "      <td>Bachelor's</td>\n",
       "      <td>NaN</td>\n",
       "      <td>INDIA</td>\n",
       "    </tr>\n",
       "    <tr>\n",
       "      <th>2</th>\n",
       "      <td>A-17275-93842</td>\n",
       "      <td>2017-10-02</td>\n",
       "      <td>Withdrawn</td>\n",
       "      <td>2017-10-02</td>\n",
       "      <td>HITACHI CONSULTING CORPORATION</td>\n",
       "      <td>TX</td>\n",
       "      <td>UNITED STATES OF AMERICA</td>\n",
       "      <td>1200.0</td>\n",
       "      <td>2000.0</td>\n",
       "      <td>Level II</td>\n",
       "      <td>79414</td>\n",
       "      <td>Year</td>\n",
       "      <td>Software Engineer</td>\n",
       "      <td>Master's</td>\n",
       "      <td>NaN</td>\n",
       "      <td>INDIA</td>\n",
       "    </tr>\n",
       "    <tr>\n",
       "      <th>3</th>\n",
       "      <td>A-17257-86988</td>\n",
       "      <td>2017-10-02</td>\n",
       "      <td>Withdrawn</td>\n",
       "      <td>2017-10-02</td>\n",
       "      <td>HITACHI CONSULTING CORPORATION</td>\n",
       "      <td>TX</td>\n",
       "      <td>UNITED STATES OF AMERICA</td>\n",
       "      <td>1200.0</td>\n",
       "      <td>2000.0</td>\n",
       "      <td>Level II</td>\n",
       "      <td>79414</td>\n",
       "      <td>Year</td>\n",
       "      <td>Software Engineer</td>\n",
       "      <td>Master's</td>\n",
       "      <td>NaN</td>\n",
       "      <td>INDIA</td>\n",
       "    </tr>\n",
       "    <tr>\n",
       "      <th>4</th>\n",
       "      <td>A-17263-89145</td>\n",
       "      <td>2017-10-02</td>\n",
       "      <td>Withdrawn</td>\n",
       "      <td>2017-10-02</td>\n",
       "      <td>FANATICS RETAIL GROUP FULFILLMENT INC DBA FANA...</td>\n",
       "      <td>FL</td>\n",
       "      <td>UNITED STATES OF AMERICA</td>\n",
       "      <td>5020.0</td>\n",
       "      <td>1995.0</td>\n",
       "      <td>Level I</td>\n",
       "      <td>81349</td>\n",
       "      <td>Year</td>\n",
       "      <td>Predictive Analyst</td>\n",
       "      <td>Master's</td>\n",
       "      <td>12.0</td>\n",
       "      <td>CHINA</td>\n",
       "    </tr>\n",
       "  </tbody>\n",
       "</table>\n",
       "</div>"
      ],
      "text/plain": [
       "     CASE_NUMBER DECISION_DATE CASE_STATUS CASE_RECEIVED_DATE  \\\n",
       "0  A-17268-91243    2017-10-01   Withdrawn         2017-09-29   \n",
       "1  A-17268-91198    2017-10-01   Withdrawn         2017-09-29   \n",
       "2  A-17275-93842    2017-10-02   Withdrawn         2017-10-02   \n",
       "3  A-17257-86988    2017-10-02   Withdrawn         2017-10-02   \n",
       "4  A-17263-89145    2017-10-02   Withdrawn         2017-10-02   \n",
       "\n",
       "                                       EMPLOYER_NAME EMPLOYER_STATE  \\\n",
       "0                        DATA MEANING SERVICES GROUP             FL   \n",
       "1                                  NOVO NORDISK INC.             NJ   \n",
       "2                     HITACHI CONSULTING CORPORATION             TX   \n",
       "3                     HITACHI CONSULTING CORPORATION             TX   \n",
       "4  FANATICS RETAIL GROUP FULFILLMENT INC DBA FANA...             FL   \n",
       "\n",
       "           EMPLOYER_COUNTRY  EMPLOYER_NUM_EMPLOYEES  EMPLOYER_YR_ESTAB  \\\n",
       "0  UNITED STATES OF AMERICA                    29.0             2010.0   \n",
       "1  UNITED STATES OF AMERICA                  5234.0             1982.0   \n",
       "2  UNITED STATES OF AMERICA                  1200.0             2000.0   \n",
       "3  UNITED STATES OF AMERICA                  1200.0             2000.0   \n",
       "4  UNITED STATES OF AMERICA                  5020.0             1995.0   \n",
       "\n",
       "  wage_level wage_offer wage_unit               job_title JOB_INFO_EDUCATION  \\\n",
       "0  Level III      82368      Year           Web Architect               None   \n",
       "1        NaN     100900      Year  Senior Systems Analyst         Bachelor's   \n",
       "2   Level II      79414      Year       Software Engineer           Master's   \n",
       "3   Level II      79414      Year       Software Engineer           Master's   \n",
       "4    Level I      81349      Year      Predictive Analyst           Master's   \n",
       "\n",
       "   JOB_INFO_EXPERIENCE_NUM_MONTHS COUNTRY_OF_CITIZENSHIP  \n",
       "0                            24.0                 BRAZIL  \n",
       "1                             NaN                  INDIA  \n",
       "2                             NaN                  INDIA  \n",
       "3                             NaN                  INDIA  \n",
       "4                            12.0                  CHINA  "
      ]
     },
     "execution_count": 126,
     "metadata": {},
     "output_type": "execute_result"
    }
   ],
   "source": [
    "df.head()"
   ]
  },
  {
   "cell_type": "code",
   "execution_count": 127,
   "metadata": {},
   "outputs": [
    {
     "name": "stdout",
     "output_type": "stream",
     "text": [
      "<class 'pandas.core.frame.DataFrame'>\n",
      "RangeIndex: 119776 entries, 0 to 119775\n",
      "Data columns (total 16 columns):\n",
      "CASE_NUMBER                       119776 non-null object\n",
      "DECISION_DATE                     119776 non-null datetime64[ns]\n",
      "CASE_STATUS                       119776 non-null object\n",
      "CASE_RECEIVED_DATE                119776 non-null datetime64[ns]\n",
      "EMPLOYER_NAME                     119776 non-null object\n",
      "EMPLOYER_STATE                    119768 non-null object\n",
      "EMPLOYER_COUNTRY                  119738 non-null object\n",
      "EMPLOYER_NUM_EMPLOYEES            119740 non-null float64\n",
      "EMPLOYER_YR_ESTAB                 119703 non-null float64\n",
      "wage_level                        111389 non-null object\n",
      "wage_offer                        119734 non-null object\n",
      "wage_unit                         119732 non-null object\n",
      "job_title                         119738 non-null object\n",
      "JOB_INFO_EDUCATION                119767 non-null object\n",
      "JOB_INFO_EXPERIENCE_NUM_MONTHS    69682 non-null float64\n",
      "COUNTRY_OF_CITIZENSHIP            119765 non-null object\n",
      "dtypes: datetime64[ns](2), float64(3), object(11)\n",
      "memory usage: 14.6+ MB\n"
     ]
    }
   ],
   "source": [
    "df.info()"
   ]
  },
  {
   "cell_type": "code",
   "execution_count": 128,
   "metadata": {},
   "outputs": [],
   "source": [
    "df=df.rename(columns=lambda x:x.lower())"
   ]
  },
  {
   "cell_type": "code",
   "execution_count": 129,
   "metadata": {},
   "outputs": [
    {
     "data": {
      "text/plain": [
       "UNITED STATES OF AMERICA    119731\n",
       "CANADA                           3\n",
       "COLOMBIA                         1\n",
       "GEORGIA                          1\n",
       "ICELAND                          1\n",
       "VIETNAM                          1\n",
       "Name: employer_country, dtype: int64"
      ]
     },
     "execution_count": 129,
     "metadata": {},
     "output_type": "execute_result"
    }
   ],
   "source": [
    "df.employer_country.value_counts()"
   ]
  },
  {
   "cell_type": "code",
   "execution_count": 130,
   "metadata": {},
   "outputs": [],
   "source": [
    "df.set_index('employer_country', inplace=True)"
   ]
  },
  {
   "cell_type": "code",
   "execution_count": 131,
   "metadata": {},
   "outputs": [],
   "source": [
    "df.drop(['CANADA','VIETNAM','COLOMBIA','ICELAND','GEORGIA'], inplace=True)"
   ]
  },
  {
   "cell_type": "code",
   "execution_count": 132,
   "metadata": {},
   "outputs": [],
   "source": [
    "df.reset_index(inplace=True)"
   ]
  },
  {
   "cell_type": "code",
   "execution_count": 133,
   "metadata": {},
   "outputs": [
    {
     "data": {
      "text/plain": [
       "UNITED STATES OF AMERICA    119731\n",
       "Name: employer_country, dtype: int64"
      ]
     },
     "execution_count": 133,
     "metadata": {},
     "output_type": "execute_result"
    }
   ],
   "source": [
    "df.employer_country.value_counts()"
   ]
  },
  {
   "cell_type": "code",
   "execution_count": 134,
   "metadata": {},
   "outputs": [],
   "source": [
    "df.drop('employer_country', axis=1, inplace=True)"
   ]
  },
  {
   "cell_type": "code",
   "execution_count": 135,
   "metadata": {},
   "outputs": [
    {
     "data": {
      "text/html": [
       "<div>\n",
       "<style scoped>\n",
       "    .dataframe tbody tr th:only-of-type {\n",
       "        vertical-align: middle;\n",
       "    }\n",
       "\n",
       "    .dataframe tbody tr th {\n",
       "        vertical-align: top;\n",
       "    }\n",
       "\n",
       "    .dataframe thead th {\n",
       "        text-align: right;\n",
       "    }\n",
       "</style>\n",
       "<table border=\"1\" class=\"dataframe\">\n",
       "  <thead>\n",
       "    <tr style=\"text-align: right;\">\n",
       "      <th></th>\n",
       "      <th>case_number</th>\n",
       "      <th>decision_date</th>\n",
       "      <th>case_status</th>\n",
       "      <th>case_received_date</th>\n",
       "      <th>employer_name</th>\n",
       "      <th>employer_state</th>\n",
       "      <th>employer_num_employees</th>\n",
       "      <th>employer_yr_estab</th>\n",
       "      <th>wage_level</th>\n",
       "      <th>wage_offer</th>\n",
       "      <th>wage_unit</th>\n",
       "      <th>job_title</th>\n",
       "      <th>job_info_education</th>\n",
       "      <th>job_info_experience_num_months</th>\n",
       "      <th>country_of_citizenship</th>\n",
       "    </tr>\n",
       "  </thead>\n",
       "  <tbody>\n",
       "    <tr>\n",
       "      <th>0</th>\n",
       "      <td>A-17268-91243</td>\n",
       "      <td>2017-10-01</td>\n",
       "      <td>Withdrawn</td>\n",
       "      <td>2017-09-29</td>\n",
       "      <td>DATA MEANING SERVICES GROUP</td>\n",
       "      <td>FL</td>\n",
       "      <td>29.0</td>\n",
       "      <td>2010.0</td>\n",
       "      <td>Level III</td>\n",
       "      <td>82368</td>\n",
       "      <td>Year</td>\n",
       "      <td>Web Architect</td>\n",
       "      <td>None</td>\n",
       "      <td>24.0</td>\n",
       "      <td>BRAZIL</td>\n",
       "    </tr>\n",
       "    <tr>\n",
       "      <th>1</th>\n",
       "      <td>A-17268-91198</td>\n",
       "      <td>2017-10-01</td>\n",
       "      <td>Withdrawn</td>\n",
       "      <td>2017-09-29</td>\n",
       "      <td>NOVO NORDISK INC.</td>\n",
       "      <td>NJ</td>\n",
       "      <td>5234.0</td>\n",
       "      <td>1982.0</td>\n",
       "      <td>NaN</td>\n",
       "      <td>100900</td>\n",
       "      <td>Year</td>\n",
       "      <td>Senior Systems Analyst</td>\n",
       "      <td>Bachelor's</td>\n",
       "      <td>NaN</td>\n",
       "      <td>INDIA</td>\n",
       "    </tr>\n",
       "    <tr>\n",
       "      <th>2</th>\n",
       "      <td>A-17275-93842</td>\n",
       "      <td>2017-10-02</td>\n",
       "      <td>Withdrawn</td>\n",
       "      <td>2017-10-02</td>\n",
       "      <td>HITACHI CONSULTING CORPORATION</td>\n",
       "      <td>TX</td>\n",
       "      <td>1200.0</td>\n",
       "      <td>2000.0</td>\n",
       "      <td>Level II</td>\n",
       "      <td>79414</td>\n",
       "      <td>Year</td>\n",
       "      <td>Software Engineer</td>\n",
       "      <td>Master's</td>\n",
       "      <td>NaN</td>\n",
       "      <td>INDIA</td>\n",
       "    </tr>\n",
       "    <tr>\n",
       "      <th>3</th>\n",
       "      <td>A-17257-86988</td>\n",
       "      <td>2017-10-02</td>\n",
       "      <td>Withdrawn</td>\n",
       "      <td>2017-10-02</td>\n",
       "      <td>HITACHI CONSULTING CORPORATION</td>\n",
       "      <td>TX</td>\n",
       "      <td>1200.0</td>\n",
       "      <td>2000.0</td>\n",
       "      <td>Level II</td>\n",
       "      <td>79414</td>\n",
       "      <td>Year</td>\n",
       "      <td>Software Engineer</td>\n",
       "      <td>Master's</td>\n",
       "      <td>NaN</td>\n",
       "      <td>INDIA</td>\n",
       "    </tr>\n",
       "    <tr>\n",
       "      <th>4</th>\n",
       "      <td>A-17263-89145</td>\n",
       "      <td>2017-10-02</td>\n",
       "      <td>Withdrawn</td>\n",
       "      <td>2017-10-02</td>\n",
       "      <td>FANATICS RETAIL GROUP FULFILLMENT INC DBA FANA...</td>\n",
       "      <td>FL</td>\n",
       "      <td>5020.0</td>\n",
       "      <td>1995.0</td>\n",
       "      <td>Level I</td>\n",
       "      <td>81349</td>\n",
       "      <td>Year</td>\n",
       "      <td>Predictive Analyst</td>\n",
       "      <td>Master's</td>\n",
       "      <td>12.0</td>\n",
       "      <td>CHINA</td>\n",
       "    </tr>\n",
       "  </tbody>\n",
       "</table>\n",
       "</div>"
      ],
      "text/plain": [
       "     case_number decision_date case_status case_received_date  \\\n",
       "0  A-17268-91243    2017-10-01   Withdrawn         2017-09-29   \n",
       "1  A-17268-91198    2017-10-01   Withdrawn         2017-09-29   \n",
       "2  A-17275-93842    2017-10-02   Withdrawn         2017-10-02   \n",
       "3  A-17257-86988    2017-10-02   Withdrawn         2017-10-02   \n",
       "4  A-17263-89145    2017-10-02   Withdrawn         2017-10-02   \n",
       "\n",
       "                                       employer_name employer_state  \\\n",
       "0                        DATA MEANING SERVICES GROUP             FL   \n",
       "1                                  NOVO NORDISK INC.             NJ   \n",
       "2                     HITACHI CONSULTING CORPORATION             TX   \n",
       "3                     HITACHI CONSULTING CORPORATION             TX   \n",
       "4  FANATICS RETAIL GROUP FULFILLMENT INC DBA FANA...             FL   \n",
       "\n",
       "   employer_num_employees  employer_yr_estab wage_level wage_offer wage_unit  \\\n",
       "0                    29.0             2010.0  Level III      82368      Year   \n",
       "1                  5234.0             1982.0        NaN     100900      Year   \n",
       "2                  1200.0             2000.0   Level II      79414      Year   \n",
       "3                  1200.0             2000.0   Level II      79414      Year   \n",
       "4                  5020.0             1995.0    Level I      81349      Year   \n",
       "\n",
       "                job_title job_info_education  job_info_experience_num_months  \\\n",
       "0           Web Architect               None                            24.0   \n",
       "1  Senior Systems Analyst         Bachelor's                             NaN   \n",
       "2       Software Engineer           Master's                             NaN   \n",
       "3       Software Engineer           Master's                             NaN   \n",
       "4      Predictive Analyst           Master's                            12.0   \n",
       "\n",
       "  country_of_citizenship  \n",
       "0                 BRAZIL  \n",
       "1                  INDIA  \n",
       "2                  INDIA  \n",
       "3                  INDIA  \n",
       "4                  CHINA  "
      ]
     },
     "execution_count": 135,
     "metadata": {},
     "output_type": "execute_result"
    }
   ],
   "source": [
    "df.head()"
   ]
  },
  {
   "cell_type": "code",
   "execution_count": null,
   "metadata": {},
   "outputs": [],
   "source": []
  },
  {
   "cell_type": "code",
   "execution_count": 136,
   "metadata": {},
   "outputs": [
    {
     "name": "stdout",
     "output_type": "stream",
     "text": [
      "\n",
      "The DataFrame has 15 columns.\n",
      "There are 15 columns that have missing values\n"
     ]
    },
    {
     "data": {
      "text/html": [
       "<div>\n",
       "<style scoped>\n",
       "    .dataframe tbody tr th:only-of-type {\n",
       "        vertical-align: middle;\n",
       "    }\n",
       "\n",
       "    .dataframe tbody tr th {\n",
       "        vertical-align: top;\n",
       "    }\n",
       "\n",
       "    .dataframe thead th {\n",
       "        text-align: right;\n",
       "    }\n",
       "</style>\n",
       "<table border=\"1\" class=\"dataframe\">\n",
       "  <thead>\n",
       "    <tr style=\"text-align: right;\">\n",
       "      <th></th>\n",
       "      <th>Missing Values</th>\n",
       "      <th>% of Total Values</th>\n",
       "    </tr>\n",
       "  </thead>\n",
       "  <tbody>\n",
       "    <tr>\n",
       "      <th>job_info_experience_num_months</th>\n",
       "      <td>50093</td>\n",
       "      <td>41.824679</td>\n",
       "    </tr>\n",
       "    <tr>\n",
       "      <th>wage_level</th>\n",
       "      <td>8387</td>\n",
       "      <td>7.002647</td>\n",
       "    </tr>\n",
       "    <tr>\n",
       "      <th>employer_yr_estab</th>\n",
       "      <td>73</td>\n",
       "      <td>0.060951</td>\n",
       "    </tr>\n",
       "    <tr>\n",
       "      <th>wage_unit</th>\n",
       "      <td>44</td>\n",
       "      <td>0.036737</td>\n",
       "    </tr>\n",
       "    <tr>\n",
       "      <th>wage_offer</th>\n",
       "      <td>42</td>\n",
       "      <td>0.035068</td>\n",
       "    </tr>\n",
       "    <tr>\n",
       "      <th>job_title</th>\n",
       "      <td>38</td>\n",
       "      <td>0.031728</td>\n",
       "    </tr>\n",
       "    <tr>\n",
       "      <th>employer_num_employees</th>\n",
       "      <td>36</td>\n",
       "      <td>0.030058</td>\n",
       "    </tr>\n",
       "    <tr>\n",
       "      <th>country_of_citizenship</th>\n",
       "      <td>11</td>\n",
       "      <td>0.009184</td>\n",
       "    </tr>\n",
       "    <tr>\n",
       "      <th>job_info_education</th>\n",
       "      <td>9</td>\n",
       "      <td>0.007514</td>\n",
       "    </tr>\n",
       "    <tr>\n",
       "      <th>employer_state</th>\n",
       "      <td>8</td>\n",
       "      <td>0.006680</td>\n",
       "    </tr>\n",
       "    <tr>\n",
       "      <th>case_number</th>\n",
       "      <td>0</td>\n",
       "      <td>0.000000</td>\n",
       "    </tr>\n",
       "    <tr>\n",
       "      <th>decision_date</th>\n",
       "      <td>0</td>\n",
       "      <td>0.000000</td>\n",
       "    </tr>\n",
       "    <tr>\n",
       "      <th>case_status</th>\n",
       "      <td>0</td>\n",
       "      <td>0.000000</td>\n",
       "    </tr>\n",
       "    <tr>\n",
       "      <th>case_received_date</th>\n",
       "      <td>0</td>\n",
       "      <td>0.000000</td>\n",
       "    </tr>\n",
       "    <tr>\n",
       "      <th>employer_name</th>\n",
       "      <td>0</td>\n",
       "      <td>0.000000</td>\n",
       "    </tr>\n",
       "  </tbody>\n",
       "</table>\n",
       "</div>"
      ],
      "text/plain": [
       "                                Missing Values  % of Total Values\n",
       "job_info_experience_num_months           50093          41.824679\n",
       "wage_level                                8387           7.002647\n",
       "employer_yr_estab                           73           0.060951\n",
       "wage_unit                                   44           0.036737\n",
       "wage_offer                                  42           0.035068\n",
       "job_title                                   38           0.031728\n",
       "employer_num_employees                      36           0.030058\n",
       "country_of_citizenship                      11           0.009184\n",
       "job_info_education                           9           0.007514\n",
       "employer_state                               8           0.006680\n",
       "case_number                                  0           0.000000\n",
       "decision_date                                0           0.000000\n",
       "case_status                                  0           0.000000\n",
       "case_received_date                           0           0.000000\n",
       "employer_name                                0           0.000000"
      ]
     },
     "execution_count": 136,
     "metadata": {},
     "output_type": "execute_result"
    }
   ],
   "source": [
    "def missing_values_table(df):\n",
    "    '''Calculate Missing Values of Each Column'''\n",
    "    # Total missing amount in each feature /series type\n",
    "    missing_value = df.isnull().sum()\n",
    "\n",
    "    # Percentage of that missing values in its column /series type\n",
    "    miss_percent = 100*missing_value/df.shape[0]\n",
    "\n",
    "    # Make a table of calculated fields /will make dataframe\n",
    "    table = pd.concat([missing_value, miss_percent], axis=1).rename(\n",
    "        columns={0: 'Missing Values', 1: '% of Total Values'})\n",
    "\n",
    "    # Sort by percentages column\n",
    "    table.sort_values(by=['% of Total Values'], ascending=False,\n",
    "                      inplace=True)\n",
    "\n",
    "    # Print Summary Information\n",
    "    print('\\nThe DataFrame has ' + str(df.shape[1]) + ' columns.\\n'\n",
    "          'There are ' + str(table.shape[0]) + ' columns that have missing values')\n",
    "\n",
    "    return table\n",
    "\n",
    "\n",
    "missing_values_table(df)"
   ]
  },
  {
   "cell_type": "code",
   "execution_count": 137,
   "metadata": {},
   "outputs": [],
   "source": [
    "df[['wage_offer', 'employer_yr_estab']]=df[['wage_offer', 'employer_yr_estab']].astype(str)"
   ]
  },
  {
   "cell_type": "code",
   "execution_count": 138,
   "metadata": {},
   "outputs": [
    {
     "name": "stdout",
     "output_type": "stream",
     "text": [
      "<class 'pandas.core.frame.DataFrame'>\n",
      "RangeIndex: 119769 entries, 0 to 119768\n",
      "Data columns (total 15 columns):\n",
      "case_number                       119769 non-null object\n",
      "decision_date                     119769 non-null datetime64[ns]\n",
      "case_status                       119769 non-null object\n",
      "case_received_date                119769 non-null datetime64[ns]\n",
      "employer_name                     119769 non-null object\n",
      "employer_state                    119761 non-null object\n",
      "employer_num_employees            119733 non-null float64\n",
      "employer_yr_estab                 119769 non-null object\n",
      "wage_level                        111382 non-null object\n",
      "wage_offer                        119769 non-null object\n",
      "wage_unit                         119725 non-null object\n",
      "job_title                         119731 non-null object\n",
      "job_info_education                119760 non-null object\n",
      "job_info_experience_num_months    69676 non-null float64\n",
      "country_of_citizenship            119758 non-null object\n",
      "dtypes: datetime64[ns](2), float64(2), object(11)\n",
      "memory usage: 13.7+ MB\n"
     ]
    }
   ],
   "source": [
    "df.info()"
   ]
  },
  {
   "cell_type": "code",
   "execution_count": 139,
   "metadata": {},
   "outputs": [],
   "source": [
    "df['wage_offer']=df.wage_offer.apply(pd.to_numeric, errors='coerce') "
   ]
  },
  {
   "cell_type": "code",
   "execution_count": 140,
   "metadata": {},
   "outputs": [
    {
     "name": "stdout",
     "output_type": "stream",
     "text": [
      "<class 'pandas.core.frame.DataFrame'>\n",
      "RangeIndex: 119769 entries, 0 to 119768\n",
      "Data columns (total 15 columns):\n",
      "case_number                       119769 non-null object\n",
      "decision_date                     119769 non-null datetime64[ns]\n",
      "case_status                       119769 non-null object\n",
      "case_received_date                119769 non-null datetime64[ns]\n",
      "employer_name                     119769 non-null object\n",
      "employer_state                    119761 non-null object\n",
      "employer_num_employees            119733 non-null float64\n",
      "employer_yr_estab                 119769 non-null object\n",
      "wage_level                        111382 non-null object\n",
      "wage_offer                        119726 non-null float64\n",
      "wage_unit                         119725 non-null object\n",
      "job_title                         119731 non-null object\n",
      "job_info_education                119760 non-null object\n",
      "job_info_experience_num_months    69676 non-null float64\n",
      "country_of_citizenship            119758 non-null object\n",
      "dtypes: datetime64[ns](2), float64(3), object(10)\n",
      "memory usage: 13.7+ MB\n"
     ]
    }
   ],
   "source": [
    "df.info()"
   ]
  },
  {
   "cell_type": "code",
   "execution_count": null,
   "metadata": {},
   "outputs": [],
   "source": []
  },
  {
   "cell_type": "code",
   "execution_count": 141,
   "metadata": {},
   "outputs": [
    {
     "data": {
      "text/html": [
       "<div>\n",
       "<style scoped>\n",
       "    .dataframe tbody tr th:only-of-type {\n",
       "        vertical-align: middle;\n",
       "    }\n",
       "\n",
       "    .dataframe tbody tr th {\n",
       "        vertical-align: top;\n",
       "    }\n",
       "\n",
       "    .dataframe thead th {\n",
       "        text-align: right;\n",
       "    }\n",
       "</style>\n",
       "<table border=\"1\" class=\"dataframe\">\n",
       "  <thead>\n",
       "    <tr style=\"text-align: right;\">\n",
       "      <th></th>\n",
       "      <th>employer_num_employees</th>\n",
       "      <th>wage_offer</th>\n",
       "      <th>job_info_experience_num_months</th>\n",
       "    </tr>\n",
       "  </thead>\n",
       "  <tbody>\n",
       "    <tr>\n",
       "      <th>count</th>\n",
       "      <td>1.197330e+05</td>\n",
       "      <td>1.197260e+05</td>\n",
       "      <td>69676.000000</td>\n",
       "    </tr>\n",
       "    <tr>\n",
       "      <th>mean</th>\n",
       "      <td>3.437806e+04</td>\n",
       "      <td>8.737608e+04</td>\n",
       "      <td>31.922872</td>\n",
       "    </tr>\n",
       "    <tr>\n",
       "      <th>std</th>\n",
       "      <td>1.016347e+05</td>\n",
       "      <td>4.270670e+04</td>\n",
       "      <td>22.330237</td>\n",
       "    </tr>\n",
       "    <tr>\n",
       "      <th>min</th>\n",
       "      <td>0.000000e+00</td>\n",
       "      <td>7.250000e+00</td>\n",
       "      <td>0.000000</td>\n",
       "    </tr>\n",
       "    <tr>\n",
       "      <th>25%</th>\n",
       "      <td>7.100000e+01</td>\n",
       "      <td>6.421000e+04</td>\n",
       "      <td>12.000000</td>\n",
       "    </tr>\n",
       "    <tr>\n",
       "      <th>50%</th>\n",
       "      <td>1.300000e+03</td>\n",
       "      <td>9.081300e+04</td>\n",
       "      <td>24.000000</td>\n",
       "    </tr>\n",
       "    <tr>\n",
       "      <th>75%</th>\n",
       "      <td>1.772700e+04</td>\n",
       "      <td>1.108020e+05</td>\n",
       "      <td>48.000000</td>\n",
       "    </tr>\n",
       "    <tr>\n",
       "      <th>max</th>\n",
       "      <td>1.400000e+06</td>\n",
       "      <td>6.262900e+06</td>\n",
       "      <td>300.000000</td>\n",
       "    </tr>\n",
       "  </tbody>\n",
       "</table>\n",
       "</div>"
      ],
      "text/plain": [
       "       employer_num_employees    wage_offer  job_info_experience_num_months\n",
       "count            1.197330e+05  1.197260e+05                    69676.000000\n",
       "mean             3.437806e+04  8.737608e+04                       31.922872\n",
       "std              1.016347e+05  4.270670e+04                       22.330237\n",
       "min              0.000000e+00  7.250000e+00                        0.000000\n",
       "25%              7.100000e+01  6.421000e+04                       12.000000\n",
       "50%              1.300000e+03  9.081300e+04                       24.000000\n",
       "75%              1.772700e+04  1.108020e+05                       48.000000\n",
       "max              1.400000e+06  6.262900e+06                      300.000000"
      ]
     },
     "execution_count": 141,
     "metadata": {},
     "output_type": "execute_result"
    }
   ],
   "source": [
    "df.describe()"
   ]
  },
  {
   "cell_type": "raw",
   "metadata": {},
   "source": [
    "Part 1: Exploratory Data Analysis\n",
    "\n",
    "\n",
    "1.Which employer has the most entries in the dataset?\n",
    "\n",
    "2.Which employer has the most “Certified” cases?\n",
    "\n",
    "3.How many unique employers contain the character string \"APPLE\" that is not \"APPLE INC.\"?\n",
    "\n",
    "4.Write a function that plots a histogram with 50 bins of the duration between from case_received_date to decision_date for any given employeer_name. Use the function to plot for \"APPLE INC.\" and \"MICROSOFT CORPORATION\""
   ]
  },
  {
   "cell_type": "markdown",
   "metadata": {},
   "source": [
    "# 1.Which employer has the most entries in the dataset?"
   ]
  },
  {
   "cell_type": "code",
   "execution_count": 142,
   "metadata": {},
   "outputs": [
    {
     "data": {
      "text/plain": [
       "'MICROSOFT CORPORATION'"
      ]
     },
     "execution_count": 142,
     "metadata": {},
     "output_type": "execute_result"
    }
   ],
   "source": [
    "df.employer_name.value_counts().index[0]"
   ]
  },
  {
   "cell_type": "markdown",
   "metadata": {},
   "source": [
    "# 2.Which employer has the most “Denied” cases?"
   ]
  },
  {
   "cell_type": "code",
   "execution_count": 143,
   "metadata": {},
   "outputs": [
    {
     "data": {
      "text/plain": [
       "'ABBYLAND FOODS, INC'"
      ]
     },
     "execution_count": 143,
     "metadata": {},
     "output_type": "execute_result"
    }
   ],
   "source": [
    "df.employer_name[df['case_status']=='Denied'].value_counts().index[0]"
   ]
  },
  {
   "cell_type": "markdown",
   "metadata": {},
   "source": [
    "# 3.How many unique employers contain the character string \"APPLE\" that is not \"APPLE INC.\"?"
   ]
  },
  {
   "cell_type": "code",
   "execution_count": 144,
   "metadata": {},
   "outputs": [
    {
     "data": {
      "text/plain": [
       "0                              DATA MEANING SERVICES GROUP\n",
       "1                                        NOVO NORDISK INC.\n",
       "2                           HITACHI CONSULTING CORPORATION\n",
       "3        FANATICS RETAIL GROUP FULFILLMENT INC DBA FANA...\n",
       "4                                AKAMAI TECHNOLOGIES, INC.\n",
       "                               ...                        \n",
       "31957          THE SHIN IL PRESBYTERIAN CHURCH OF NY, INC.\n",
       "31958                  Prime Rehabilitation Services, Inc.\n",
       "31959                                           KURISU LLC\n",
       "31960    TCB Quality Landscaping, Inc. dba TCB Landscaping\n",
       "31961                                        Tjasa Hranjec\n",
       "Length: 31962, dtype: object"
      ]
     },
     "execution_count": 144,
     "metadata": {},
     "output_type": "execute_result"
    }
   ],
   "source": [
    "unique_employers=pd.Series(df['employer_name'].unique())\n",
    "unique_employers"
   ]
  },
  {
   "cell_type": "code",
   "execution_count": 145,
   "metadata": {},
   "outputs": [],
   "source": [
    "apple_inc=unique_employers.str.contains('APPLE INC.')\n",
    "apple=unique_employers.str.contains('APPLE')"
   ]
  },
  {
   "cell_type": "code",
   "execution_count": 146,
   "metadata": {},
   "outputs": [
    {
     "name": "stdout",
     "output_type": "stream",
     "text": [
      "Number of unique employers contain APPLE without INC.: 6\n"
     ]
    }
   ],
   "source": [
    "apple.sum()\n",
    "apple_inc.sum()\n",
    "\n",
    "only_apple= apple.sum()-apple_inc.sum()\n",
    "\n",
    "print('Number of unique employers contain APPLE without INC.:', only_apple)"
   ]
  },
  {
   "cell_type": "markdown",
   "metadata": {},
   "source": [
    "# 4.Write a function that plots a histogram with 50 bins of the duration between from case_received_date to decision_date for any given employeer_name. Use the function to plot for \"APPLE INC.\" and \"MICROSOFT CORPORATION\""
   ]
  },
  {
   "cell_type": "code",
   "execution_count": 147,
   "metadata": {},
   "outputs": [],
   "source": [
    "import datetime \n",
    "import matplotlib.pyplot as plt"
   ]
  },
  {
   "cell_type": "code",
   "execution_count": 148,
   "metadata": {},
   "outputs": [],
   "source": [
    "\n",
    "df['case_received_date'] = pd.to_datetime(df['case_received_date'])\n",
    "df['decision_date'] = pd.to_datetime(df['decision_date'])"
   ]
  },
  {
   "cell_type": "code",
   "execution_count": 149,
   "metadata": {},
   "outputs": [],
   "source": [
    "duration=df['decision_date'] - df['case_received_date']\n",
    "df['duration']=duration"
   ]
  },
  {
   "cell_type": "code",
   "execution_count": 270,
   "metadata": {},
   "outputs": [],
   "source": [
    "def plot_duration(company_name):\n",
    "    \n",
    "    days = df[df['employer_name']== company_name]['duration'].reset_index()\n",
    "    plt.figure(figsize=(12,8)) \n",
    "    dur = []\n",
    "    for i in range(len(days)):\n",
    "        v = days.iloc[i].duration.days\n",
    "        dur.append(v)\n",
    "    plt.hist(dur, bins=50)\n",
    "    plt.title(company_name)\n",
    "    plt.show()\n",
    "    "
   ]
  },
  {
   "cell_type": "code",
   "execution_count": 271,
   "metadata": {},
   "outputs": [
    {
     "data": {
      "image/png": "[encoded data removed]",
      "text/plain": [
       "<Figure size 864x576 with 1 Axes>"
      ]
     },
     "metadata": {},
     "output_type": "display_data"
    }
   ],
   "source": [
    "plot_duration('APPLE INC.')"
   ]
  },
  {
   "cell_type": "code",
   "execution_count": 272,
   "metadata": {},
   "outputs": [
    {
     "data": {
      "image/png": "[encoded data removed]",
      "text/plain": [
       "<Figure size 864x576 with 1 Axes>"
      ]
     },
     "metadata": {},
     "output_type": "display_data"
    }
   ],
   "source": [
    "plot_duration('MICROSOFT CORPORATION')"
   ]
  },
  {
   "cell_type": "code",
   "execution_count": 153,
   "metadata": {},
   "outputs": [
    {
     "data": {
      "text/plain": [
       "<Figure size 432x504 with 0 Axes>"
      ]
     },
     "metadata": {},
     "output_type": "display_data"
    },
    {
     "data": {
      "image/png": "[encoded data removed]",
      "text/plain": [
       "<Figure size 432x288 with 4 Axes>"
      ]
     },
     "metadata": {},
     "output_type": "display_data"
    }
   ],
   "source": [
    "\n",
    "#wage offer sorunlu\n",
    "plt.figure(figsize=(6,7))\n",
    "df.hist()\n",
    "plt.show()"
   ]
  },
  {
   "cell_type": "markdown",
   "metadata": {},
   "source": [
    "# How might missing values be handled?"
   ]
  },
  {
   "cell_type": "code",
   "execution_count": 154,
   "metadata": {},
   "outputs": [
    {
     "data": {
      "text/plain": [
       "case_number                           0\n",
       "decision_date                         0\n",
       "case_status                           0\n",
       "case_received_date                    0\n",
       "employer_name                         0\n",
       "employer_state                        8\n",
       "employer_num_employees               36\n",
       "employer_yr_estab                     0\n",
       "wage_level                         8387\n",
       "wage_offer                           43\n",
       "wage_unit                            44\n",
       "job_title                            38\n",
       "job_info_education                    9\n",
       "job_info_experience_num_months    50093\n",
       "country_of_citizenship               11\n",
       "duration                              0\n",
       "dtype: int64"
      ]
     },
     "execution_count": 154,
     "metadata": {},
     "output_type": "execute_result"
    }
   ],
   "source": [
    "df.isnull().sum()"
   ]
  },
  {
   "cell_type": "code",
   "execution_count": 155,
   "metadata": {},
   "outputs": [
    {
     "name": "stdout",
     "output_type": "stream",
     "text": [
      "<class 'pandas.core.frame.DataFrame'>\n",
      "RangeIndex: 119769 entries, 0 to 119768\n",
      "Data columns (total 16 columns):\n",
      "case_number                       119769 non-null object\n",
      "decision_date                     119769 non-null datetime64[ns]\n",
      "case_status                       119769 non-null object\n",
      "case_received_date                119769 non-null datetime64[ns]\n",
      "employer_name                     119769 non-null object\n",
      "employer_state                    119761 non-null object\n",
      "employer_num_employees            119733 non-null float64\n",
      "employer_yr_estab                 119769 non-null object\n",
      "wage_level                        111382 non-null object\n",
      "wage_offer                        119726 non-null float64\n",
      "wage_unit                         119725 non-null object\n",
      "job_title                         119731 non-null object\n",
      "job_info_education                119760 non-null object\n",
      "job_info_experience_num_months    69676 non-null float64\n",
      "country_of_citizenship            119758 non-null object\n",
      "duration                          119769 non-null timedelta64[ns]\n",
      "dtypes: datetime64[ns](2), float64(3), object(10), timedelta64[ns](1)\n",
      "memory usage: 14.6+ MB\n"
     ]
    }
   ],
   "source": [
    "df.info()"
   ]
  },
  {
   "cell_type": "code",
   "execution_count": 156,
   "metadata": {},
   "outputs": [
    {
     "data": {
      "text/plain": [
       "<Figure size 432x576 with 0 Axes>"
      ]
     },
     "metadata": {},
     "output_type": "display_data"
    },
    {
     "data": {
      "image/png": "[encoded data removed]",
      "text/plain": [
       "<Figure size 432x288 with 4 Axes>"
      ]
     },
     "metadata": {},
     "output_type": "display_data"
    }
   ],
   "source": [
    "plt.figure(figsize=(6,8))\n",
    "df.hist()\n",
    "plt.show();"
   ]
  },
  {
   "cell_type": "markdown",
   "metadata": {},
   "source": [
    "We choose use median statistic to fill in numerical missing values as data is skewed."
   ]
  },
  {
   "cell_type": "code",
   "execution_count": 157,
   "metadata": {},
   "outputs": [],
   "source": [
    "df['employer_num_employees'].fillna(df['employer_num_employees'].median(), inplace=True)\n",
    "df['job_info_experience_num_months'].fillna(df['job_info_experience_num_months'].median(), inplace=True)\n",
    "df['wage_offer'].fillna(df['wage_offer'].median(), inplace=True)"
   ]
  },
  {
   "cell_type": "code",
   "execution_count": 158,
   "metadata": {},
   "outputs": [],
   "source": [
    "#def impute_median(series):\n",
    "    #return series.fillna(series.median())\n",
    "    \n",
    "#impute_median(df)"
   ]
  },
  {
   "cell_type": "code",
   "execution_count": 159,
   "metadata": {},
   "outputs": [
    {
     "name": "stdout",
     "output_type": "stream",
     "text": [
      "<class 'pandas.core.frame.DataFrame'>\n",
      "RangeIndex: 119769 entries, 0 to 119768\n",
      "Data columns (total 16 columns):\n",
      "case_number                       119769 non-null object\n",
      "decision_date                     119769 non-null datetime64[ns]\n",
      "case_status                       119769 non-null object\n",
      "case_received_date                119769 non-null datetime64[ns]\n",
      "employer_name                     119769 non-null object\n",
      "employer_state                    119761 non-null object\n",
      "employer_num_employees            119769 non-null float64\n",
      "employer_yr_estab                 119769 non-null object\n",
      "wage_level                        111382 non-null object\n",
      "wage_offer                        119769 non-null float64\n",
      "wage_unit                         119725 non-null object\n",
      "job_title                         119731 non-null object\n",
      "job_info_education                119760 non-null object\n",
      "job_info_experience_num_months    119769 non-null float64\n",
      "country_of_citizenship            119758 non-null object\n",
      "duration                          119769 non-null timedelta64[ns]\n",
      "dtypes: datetime64[ns](2), float64(3), object(10), timedelta64[ns](1)\n",
      "memory usage: 14.6+ MB\n"
     ]
    }
   ],
   "source": [
    "df.info()"
   ]
  },
  {
   "cell_type": "code",
   "execution_count": 160,
   "metadata": {},
   "outputs": [
    {
     "data": {
      "text/plain": [
       "case_number                          0\n",
       "decision_date                        0\n",
       "case_status                          0\n",
       "case_received_date                   0\n",
       "employer_name                        0\n",
       "employer_state                       8\n",
       "employer_num_employees               0\n",
       "employer_yr_estab                    0\n",
       "wage_level                        8387\n",
       "wage_offer                           0\n",
       "wage_unit                           44\n",
       "job_title                           38\n",
       "job_info_education                   9\n",
       "job_info_experience_num_months       0\n",
       "country_of_citizenship              11\n",
       "duration                             0\n",
       "dtype: int64"
      ]
     },
     "execution_count": 160,
     "metadata": {},
     "output_type": "execute_result"
    }
   ],
   "source": [
    "df.isnull().sum()"
   ]
  },
  {
   "cell_type": "code",
   "execution_count": 165,
   "metadata": {},
   "outputs": [],
   "source": [
    "df_clean=df.drop(['decision_date', 'case_received_date', 'case_number'], axis=1)"
   ]
  },
  {
   "cell_type": "code",
   "execution_count": 60,
   "metadata": {},
   "outputs": [],
   "source": [
    "df_clean=df_clean.dropna()"
   ]
  },
  {
   "cell_type": "code",
   "execution_count": 61,
   "metadata": {},
   "outputs": [
    {
     "name": "stdout",
     "output_type": "stream",
     "text": [
      "<class 'pandas.core.frame.DataFrame'>\n",
      "Int64Index: 111345 entries, 0 to 119768\n",
      "Data columns (total 13 columns):\n",
      "case_status                       111345 non-null object\n",
      "employer_name                     111345 non-null object\n",
      "employer_state                    111345 non-null object\n",
      "employer_num_employees            111345 non-null float64\n",
      "employer_yr_estab                 111345 non-null object\n",
      "wage_level                        111345 non-null object\n",
      "wage_offer                        111345 non-null float64\n",
      "wage_unit                         111345 non-null object\n",
      "job_title                         111345 non-null object\n",
      "job_info_education                111345 non-null object\n",
      "job_info_experience_num_months    111345 non-null float64\n",
      "country_of_citizenship            111345 non-null object\n",
      "duration                          111345 non-null timedelta64[ns]\n",
      "dtypes: float64(3), object(9), timedelta64[ns](1)\n",
      "memory usage: 11.9+ MB\n"
     ]
    }
   ],
   "source": [
    "df_clean.info()"
   ]
  },
  {
   "cell_type": "markdown",
   "metadata": {},
   "source": [
    "# What transformations are relevant?"
   ]
  },
  {
   "cell_type": "code",
   "execution_count": 62,
   "metadata": {},
   "outputs": [],
   "source": [
    "wage_units = df_clean['wage_unit'].unique()"
   ]
  },
  {
   "cell_type": "code",
   "execution_count": 63,
   "metadata": {},
   "outputs": [
    {
     "name": "stderr",
     "output_type": "stream",
     "text": [
      "/Users/poyraz/anaconda3/lib/python3.7/site-packages/ipykernel_launcher.py:2: SettingWithCopyWarning: \n",
      "A value is trying to be set on a copy of a slice from a DataFrame\n",
      "\n",
      "See the caveats in the documentation: http://pandas.pydata.org/pandas-docs/stable/user_guide/indexing.html#returning-a-view-versus-a-copy\n",
      "  \n",
      "/Users/poyraz/anaconda3/lib/python3.7/site-packages/ipykernel_launcher.py:3: SettingWithCopyWarning: \n",
      "A value is trying to be set on a copy of a slice from a DataFrame\n",
      "\n",
      "See the caveats in the documentation: http://pandas.pydata.org/pandas-docs/stable/user_guide/indexing.html#returning-a-view-versus-a-copy\n",
      "  This is separate from the ipykernel package so we can avoid doing imports until\n"
     ]
    }
   ],
   "source": [
    "wage_units = df_clean['wage_unit'].unique()\n",
    "df_clean['wage_offer'][df_clean['wage_unit'] == 'Month']  = df_clean[df_clean['wage_unit'] == 'Month']['wage_offer'] * 12\n",
    "df_clean['wage_offer'][df_clean['wage_unit'] == 'Week']  = df_clean[df_clean['wage_unit'] == 'Week']['wage_offer'] * 52\n",
    "df_clean['wage_offer'][df_clean['wage_unit'] == 'Hour']  = df_clean[df_clean['wage_unit'] == 'Hour']['wage_offer']*2080"
   ]
  },
  {
   "cell_type": "markdown",
   "metadata": {},
   "source": [
    "# Are there any outliers?"
   ]
  },
  {
   "cell_type": "code",
   "execution_count": 64,
   "metadata": {},
   "outputs": [],
   "source": [
    "for feature in df_clean.select_dtypes(include=[np.float64, np.int64]).columns:\n",
    "    step=1.5*((np.percentile(df_clean[feature], q=75))-(np.percentile(df_clean[feature], q=25)))\n",
    "    lower_bound=(np.percentile(df_clean[feature], q=25))-step\n",
    "    upper_bound=(np.percentile(df_clean[feature], q=75))+step\n",
    "    df_clean.drop(list(df_clean.loc[df_clean[feature]<lower_bound].index)+\n",
    "              list(df_clean.loc[df_clean[feature]>upper_bound].index), inplace=True)"
   ]
  },
  {
   "cell_type": "code",
   "execution_count": 65,
   "metadata": {},
   "outputs": [
    {
     "data": {
      "text/plain": [
       "(55721, 13)"
      ]
     },
     "execution_count": 65,
     "metadata": {},
     "output_type": "execute_result"
    }
   ],
   "source": [
    "df_clean.shape"
   ]
  },
  {
   "cell_type": "code",
   "execution_count": null,
   "metadata": {},
   "outputs": [],
   "source": []
  },
  {
   "cell_type": "code",
   "execution_count": 268,
   "metadata": {},
   "outputs": [],
   "source": [
    "outliers=[]\n",
    "def detect_outlier(data_1):\n",
    "    \n",
    "    threshold=3\n",
    "    mean_1 = np.mean(data_1)\n",
    "    std_1 =np.std(data_1)\n",
    "    \n",
    "    \n",
    "    for y in data_1:\n",
    "        z_score= (y - mean_1)/std_1 \n",
    "        if np.abs(z_score) > threshold:\n",
    "            outliers.append(y)\n",
    "    return outliers"
   ]
  },
  {
   "cell_type": "code",
   "execution_count": null,
   "metadata": {},
   "outputs": [],
   "source": []
  },
  {
   "cell_type": "code",
   "execution_count": 67,
   "metadata": {},
   "outputs": [
    {
     "data": {
      "image/png": "[encoded data removed]",
      "text/plain": [
       "<Figure size 1080x432 with 3 Axes>"
      ]
     },
     "metadata": {
      "needs_background": "light"
     },
     "output_type": "display_data"
    }
   ],
   "source": [
    "#Make subplotted figure\n",
    "fig, axes = plt.subplots(1, 3, figsize=(15,6))\n",
    "\n",
    "#Cycle through all relevant columns\n",
    "i = 1\n",
    "for col in df_clean.select_dtypes(include=[np.float64, np.int64]).columns:\n",
    "    plt.subplot(1, 3, i)\n",
    "    df_clean[col].plot.box(widths=0.7, flierprops=dict(markerfacecolor='g', markersize=12, alpha=0.1), vert=True)\n",
    "    i += 1\n",
    "#Displaying the plot\n",
    "plt.show()"
   ]
  },
  {
   "cell_type": "code",
   "execution_count": 68,
   "metadata": {},
   "outputs": [
    {
     "name": "stdout",
     "output_type": "stream",
     "text": [
      "employer_num_employees:  0.14599522621632777\n",
      "wage_offer:  0.006119775309129412\n",
      "job_info_experience_num_months:  0.0\n"
     ]
    }
   ],
   "source": [
    "# Computing percentages of outliers with a \"for loop\"\n",
    "data=df_clean.copy()\n",
    "for feature in data.select_dtypes(include=[np.float64, np.int64]).columns:\n",
    "    step=1.5*((np.percentile(data[feature], q=75))-(np.percentile(data[feature], q=25)))\n",
    "    lower_bound=(np.percentile(data[feature], q=25))-step\n",
    "    upper_bound=(np.percentile(data[feature], q=75))+step\n",
    "    a = (len(list(data.loc[data[feature]<lower_bound].index))+\n",
    "            (len(list(data.loc[data[feature]>upper_bound].index))))/df_clean.shape[0]\n",
    "    print('{}:  {}'.format(feature,a))"
   ]
  },
  {
   "cell_type": "markdown",
   "metadata": {},
   "source": [
    "# What additional features could be engineered?"
   ]
  },
  {
   "cell_type": "code",
   "execution_count": 69,
   "metadata": {},
   "outputs": [
    {
     "data": {
      "text/plain": [
       "case_status                                object\n",
       "employer_name                              object\n",
       "employer_state                             object\n",
       "employer_num_employees                    float64\n",
       "employer_yr_estab                          object\n",
       "wage_level                                 object\n",
       "wage_offer                                float64\n",
       "wage_unit                                  object\n",
       "job_title                                  object\n",
       "job_info_education                         object\n",
       "job_info_experience_num_months            float64\n",
       "country_of_citizenship                     object\n",
       "duration                          timedelta64[ns]\n",
       "dtype: object"
      ]
     },
     "execution_count": 69,
     "metadata": {},
     "output_type": "execute_result"
    }
   ],
   "source": [
    "df_clean.dtypes"
   ]
  },
  {
   "cell_type": "code",
   "execution_count": 70,
   "metadata": {},
   "outputs": [
    {
     "data": {
      "text/html": [
       "<div>\n",
       "<style scoped>\n",
       "    .dataframe tbody tr th:only-of-type {\n",
       "        vertical-align: middle;\n",
       "    }\n",
       "\n",
       "    .dataframe tbody tr th {\n",
       "        vertical-align: top;\n",
       "    }\n",
       "\n",
       "    .dataframe thead th {\n",
       "        text-align: right;\n",
       "    }\n",
       "</style>\n",
       "<table border=\"1\" class=\"dataframe\">\n",
       "  <thead>\n",
       "    <tr style=\"text-align: right;\">\n",
       "      <th></th>\n",
       "      <th>case_status</th>\n",
       "      <th>employer_name</th>\n",
       "      <th>employer_state</th>\n",
       "      <th>employer_num_employees</th>\n",
       "      <th>employer_yr_estab</th>\n",
       "      <th>wage_level</th>\n",
       "      <th>wage_offer</th>\n",
       "      <th>wage_unit</th>\n",
       "      <th>job_title</th>\n",
       "      <th>job_info_education</th>\n",
       "      <th>job_info_experience_num_months</th>\n",
       "      <th>country_of_citizenship</th>\n",
       "      <th>duration</th>\n",
       "    </tr>\n",
       "  </thead>\n",
       "  <tbody>\n",
       "    <tr>\n",
       "      <th>41889</th>\n",
       "      <td>Certified</td>\n",
       "      <td>FACEBOOK, INC.</td>\n",
       "      <td>CA</td>\n",
       "      <td>14765.0</td>\n",
       "      <td>2004.0</td>\n",
       "      <td>Level I</td>\n",
       "      <td>122949.0</td>\n",
       "      <td>Year</td>\n",
       "      <td>Engineering Manager</td>\n",
       "      <td>Bachelor's</td>\n",
       "      <td>24.0</td>\n",
       "      <td>CHINA</td>\n",
       "      <td>125 days</td>\n",
       "    </tr>\n",
       "    <tr>\n",
       "      <th>41890</th>\n",
       "      <td>Certified</td>\n",
       "      <td>DELEK US HOLDINGS, INC.</td>\n",
       "      <td>TN</td>\n",
       "      <td>3200.0</td>\n",
       "      <td>2001.0</td>\n",
       "      <td>Level IV</td>\n",
       "      <td>85405.0</td>\n",
       "      <td>Year</td>\n",
       "      <td>Sr. Systems Analyst - Refinery Systems</td>\n",
       "      <td>Bachelor's</td>\n",
       "      <td>24.0</td>\n",
       "      <td>INDIA</td>\n",
       "      <td>125 days</td>\n",
       "    </tr>\n",
       "    <tr>\n",
       "      <th>41893</th>\n",
       "      <td>Certified</td>\n",
       "      <td>COMPROBASE INC</td>\n",
       "      <td>VA</td>\n",
       "      <td>43.0</td>\n",
       "      <td>2004.0</td>\n",
       "      <td>Level II</td>\n",
       "      <td>83221.0</td>\n",
       "      <td>Year</td>\n",
       "      <td>System Administrators</td>\n",
       "      <td>Master's</td>\n",
       "      <td>24.0</td>\n",
       "      <td>INDIA</td>\n",
       "      <td>125 days</td>\n",
       "    </tr>\n",
       "    <tr>\n",
       "      <th>41894</th>\n",
       "      <td>Certified</td>\n",
       "      <td>YSK GROUP INC</td>\n",
       "      <td>CO</td>\n",
       "      <td>1.0</td>\n",
       "      <td>2001.0</td>\n",
       "      <td>Level I</td>\n",
       "      <td>18762.0</td>\n",
       "      <td>Year</td>\n",
       "      <td>CASHIER</td>\n",
       "      <td>None</td>\n",
       "      <td>24.0</td>\n",
       "      <td>SOUTH KOREA</td>\n",
       "      <td>125 days</td>\n",
       "    </tr>\n",
       "    <tr>\n",
       "      <th>41898</th>\n",
       "      <td>Certified</td>\n",
       "      <td>COMPSYCH MANAGEMENT CORPORATION</td>\n",
       "      <td>IL</td>\n",
       "      <td>725.0</td>\n",
       "      <td>1990.0</td>\n",
       "      <td>Level II</td>\n",
       "      <td>83366.0</td>\n",
       "      <td>Year</td>\n",
       "      <td>Technical Team Lead</td>\n",
       "      <td>Master's</td>\n",
       "      <td>24.0</td>\n",
       "      <td>INDIA</td>\n",
       "      <td>125 days</td>\n",
       "    </tr>\n",
       "  </tbody>\n",
       "</table>\n",
       "</div>"
      ],
      "text/plain": [
       "      case_status                    employer_name employer_state  \\\n",
       "41889   Certified                   FACEBOOK, INC.             CA   \n",
       "41890   Certified          DELEK US HOLDINGS, INC.             TN   \n",
       "41893   Certified                   COMPROBASE INC             VA   \n",
       "41894   Certified                    YSK GROUP INC             CO   \n",
       "41898   Certified  COMPSYCH MANAGEMENT CORPORATION             IL   \n",
       "\n",
       "       employer_num_employees employer_yr_estab wage_level  wage_offer  \\\n",
       "41889                 14765.0            2004.0    Level I    122949.0   \n",
       "41890                  3200.0            2001.0   Level IV     85405.0   \n",
       "41893                    43.0            2004.0   Level II     83221.0   \n",
       "41894                     1.0            2001.0    Level I     18762.0   \n",
       "41898                   725.0            1990.0   Level II     83366.0   \n",
       "\n",
       "      wage_unit                               job_title job_info_education  \\\n",
       "41889      Year                     Engineering Manager         Bachelor's   \n",
       "41890      Year  Sr. Systems Analyst - Refinery Systems         Bachelor's   \n",
       "41893      Year                   System Administrators           Master's   \n",
       "41894      Year                                 CASHIER               None   \n",
       "41898      Year                     Technical Team Lead           Master's   \n",
       "\n",
       "       job_info_experience_num_months country_of_citizenship duration  \n",
       "41889                            24.0                  CHINA 125 days  \n",
       "41890                            24.0                  INDIA 125 days  \n",
       "41893                            24.0                  INDIA 125 days  \n",
       "41894                            24.0            SOUTH KOREA 125 days  \n",
       "41898                            24.0                  INDIA 125 days  "
      ]
     },
     "execution_count": 70,
     "metadata": {},
     "output_type": "execute_result"
    }
   ],
   "source": [
    "df_clean = df_clean.loc[df['case_status']=='Certified',:]\n",
    "df_clean.head()"
   ]
  },
  {
   "cell_type": "code",
   "execution_count": 122,
   "metadata": {},
   "outputs": [
    {
     "ename": "KeyError",
     "evalue": "\"['case_status' 'duration' 'wage_unit'] not found in axis\"",
     "output_type": "error",
     "traceback": [
      "\u001b[0;31m---------------------------------------------------------------------------\u001b[0m",
      "\u001b[0;31mKeyError\u001b[0m                                  Traceback (most recent call last)",
      "\u001b[0;32m<ipython-input-122-4f0c96a0f1f8>\u001b[0m in \u001b[0;36m<module>\u001b[0;34m\u001b[0m\n\u001b[0;32m----> 1\u001b[0;31m \u001b[0mdf_clean\u001b[0m \u001b[0;34m=\u001b[0m \u001b[0mdf_clean\u001b[0m\u001b[0;34m.\u001b[0m\u001b[0mdrop\u001b[0m\u001b[0;34m(\u001b[0m\u001b[0;34m[\u001b[0m\u001b[0;34m'case_status'\u001b[0m\u001b[0;34m,\u001b[0m \u001b[0;34m'duration'\u001b[0m\u001b[0;34m,\u001b[0m \u001b[0;34m'wage_unit'\u001b[0m\u001b[0;34m]\u001b[0m\u001b[0;34m,\u001b[0m \u001b[0maxis\u001b[0m\u001b[0;34m=\u001b[0m\u001b[0;36m1\u001b[0m\u001b[0;34m)\u001b[0m\u001b[0;34m\u001b[0m\u001b[0;34m\u001b[0m\u001b[0m\n\u001b[0m",
      "\u001b[0;32m~/anaconda3/lib/python3.7/site-packages/pandas/core/frame.py\u001b[0m in \u001b[0;36mdrop\u001b[0;34m(self, labels, axis, index, columns, level, inplace, errors)\u001b[0m\n\u001b[1;32m   4115\u001b[0m             \u001b[0mlevel\u001b[0m\u001b[0;34m=\u001b[0m\u001b[0mlevel\u001b[0m\u001b[0;34m,\u001b[0m\u001b[0;34m\u001b[0m\u001b[0;34m\u001b[0m\u001b[0m\n\u001b[1;32m   4116\u001b[0m             \u001b[0minplace\u001b[0m\u001b[0;34m=\u001b[0m\u001b[0minplace\u001b[0m\u001b[0;34m,\u001b[0m\u001b[0;34m\u001b[0m\u001b[0;34m\u001b[0m\u001b[0m\n\u001b[0;32m-> 4117\u001b[0;31m             \u001b[0merrors\u001b[0m\u001b[0;34m=\u001b[0m\u001b[0merrors\u001b[0m\u001b[0;34m,\u001b[0m\u001b[0;34m\u001b[0m\u001b[0;34m\u001b[0m\u001b[0m\n\u001b[0m\u001b[1;32m   4118\u001b[0m         )\n\u001b[1;32m   4119\u001b[0m \u001b[0;34m\u001b[0m\u001b[0m\n",
      "\u001b[0;32m~/anaconda3/lib/python3.7/site-packages/pandas/core/generic.py\u001b[0m in \u001b[0;36mdrop\u001b[0;34m(self, labels, axis, index, columns, level, inplace, errors)\u001b[0m\n\u001b[1;32m   3912\u001b[0m         \u001b[0;32mfor\u001b[0m \u001b[0maxis\u001b[0m\u001b[0;34m,\u001b[0m \u001b[0mlabels\u001b[0m \u001b[0;32min\u001b[0m \u001b[0maxes\u001b[0m\u001b[0;34m.\u001b[0m\u001b[0mitems\u001b[0m\u001b[0;34m(\u001b[0m\u001b[0;34m)\u001b[0m\u001b[0;34m:\u001b[0m\u001b[0;34m\u001b[0m\u001b[0;34m\u001b[0m\u001b[0m\n\u001b[1;32m   3913\u001b[0m             \u001b[0;32mif\u001b[0m \u001b[0mlabels\u001b[0m \u001b[0;32mis\u001b[0m \u001b[0;32mnot\u001b[0m \u001b[0;32mNone\u001b[0m\u001b[0;34m:\u001b[0m\u001b[0;34m\u001b[0m\u001b[0;34m\u001b[0m\u001b[0m\n\u001b[0;32m-> 3914\u001b[0;31m                 \u001b[0mobj\u001b[0m \u001b[0;34m=\u001b[0m \u001b[0mobj\u001b[0m\u001b[0;34m.\u001b[0m\u001b[0m_drop_axis\u001b[0m\u001b[0;34m(\u001b[0m\u001b[0mlabels\u001b[0m\u001b[0;34m,\u001b[0m \u001b[0maxis\u001b[0m\u001b[0;34m,\u001b[0m \u001b[0mlevel\u001b[0m\u001b[0;34m=\u001b[0m\u001b[0mlevel\u001b[0m\u001b[0;34m,\u001b[0m \u001b[0merrors\u001b[0m\u001b[0;34m=\u001b[0m\u001b[0merrors\u001b[0m\u001b[0;34m)\u001b[0m\u001b[0;34m\u001b[0m\u001b[0;34m\u001b[0m\u001b[0m\n\u001b[0m\u001b[1;32m   3915\u001b[0m \u001b[0;34m\u001b[0m\u001b[0m\n\u001b[1;32m   3916\u001b[0m         \u001b[0;32mif\u001b[0m \u001b[0minplace\u001b[0m\u001b[0;34m:\u001b[0m\u001b[0;34m\u001b[0m\u001b[0;34m\u001b[0m\u001b[0m\n",
      "\u001b[0;32m~/anaconda3/lib/python3.7/site-packages/pandas/core/generic.py\u001b[0m in \u001b[0;36m_drop_axis\u001b[0;34m(self, labels, axis, level, errors)\u001b[0m\n\u001b[1;32m   3944\u001b[0m                 \u001b[0mnew_axis\u001b[0m \u001b[0;34m=\u001b[0m \u001b[0maxis\u001b[0m\u001b[0;34m.\u001b[0m\u001b[0mdrop\u001b[0m\u001b[0;34m(\u001b[0m\u001b[0mlabels\u001b[0m\u001b[0;34m,\u001b[0m \u001b[0mlevel\u001b[0m\u001b[0;34m=\u001b[0m\u001b[0mlevel\u001b[0m\u001b[0;34m,\u001b[0m \u001b[0merrors\u001b[0m\u001b[0;34m=\u001b[0m\u001b[0merrors\u001b[0m\u001b[0;34m)\u001b[0m\u001b[0;34m\u001b[0m\u001b[0;34m\u001b[0m\u001b[0m\n\u001b[1;32m   3945\u001b[0m             \u001b[0;32melse\u001b[0m\u001b[0;34m:\u001b[0m\u001b[0;34m\u001b[0m\u001b[0;34m\u001b[0m\u001b[0m\n\u001b[0;32m-> 3946\u001b[0;31m                 \u001b[0mnew_axis\u001b[0m \u001b[0;34m=\u001b[0m \u001b[0maxis\u001b[0m\u001b[0;34m.\u001b[0m\u001b[0mdrop\u001b[0m\u001b[0;34m(\u001b[0m\u001b[0mlabels\u001b[0m\u001b[0;34m,\u001b[0m \u001b[0merrors\u001b[0m\u001b[0;34m=\u001b[0m\u001b[0merrors\u001b[0m\u001b[0;34m)\u001b[0m\u001b[0;34m\u001b[0m\u001b[0;34m\u001b[0m\u001b[0m\n\u001b[0m\u001b[1;32m   3947\u001b[0m             \u001b[0mresult\u001b[0m \u001b[0;34m=\u001b[0m \u001b[0mself\u001b[0m\u001b[0;34m.\u001b[0m\u001b[0mreindex\u001b[0m\u001b[0;34m(\u001b[0m\u001b[0;34m**\u001b[0m\u001b[0;34m{\u001b[0m\u001b[0maxis_name\u001b[0m\u001b[0;34m:\u001b[0m \u001b[0mnew_axis\u001b[0m\u001b[0;34m}\u001b[0m\u001b[0;34m)\u001b[0m\u001b[0;34m\u001b[0m\u001b[0;34m\u001b[0m\u001b[0m\n\u001b[1;32m   3948\u001b[0m \u001b[0;34m\u001b[0m\u001b[0m\n",
      "\u001b[0;32m~/anaconda3/lib/python3.7/site-packages/pandas/core/indexes/base.py\u001b[0m in \u001b[0;36mdrop\u001b[0;34m(self, labels, errors)\u001b[0m\n\u001b[1;32m   5338\u001b[0m         \u001b[0;32mif\u001b[0m \u001b[0mmask\u001b[0m\u001b[0;34m.\u001b[0m\u001b[0many\u001b[0m\u001b[0;34m(\u001b[0m\u001b[0;34m)\u001b[0m\u001b[0;34m:\u001b[0m\u001b[0;34m\u001b[0m\u001b[0;34m\u001b[0m\u001b[0m\n\u001b[1;32m   5339\u001b[0m             \u001b[0;32mif\u001b[0m \u001b[0merrors\u001b[0m \u001b[0;34m!=\u001b[0m \u001b[0;34m\"ignore\"\u001b[0m\u001b[0;34m:\u001b[0m\u001b[0;34m\u001b[0m\u001b[0;34m\u001b[0m\u001b[0m\n\u001b[0;32m-> 5340\u001b[0;31m                 \u001b[0;32mraise\u001b[0m \u001b[0mKeyError\u001b[0m\u001b[0;34m(\u001b[0m\u001b[0;34m\"{} not found in axis\"\u001b[0m\u001b[0;34m.\u001b[0m\u001b[0mformat\u001b[0m\u001b[0;34m(\u001b[0m\u001b[0mlabels\u001b[0m\u001b[0;34m[\u001b[0m\u001b[0mmask\u001b[0m\u001b[0;34m]\u001b[0m\u001b[0;34m)\u001b[0m\u001b[0;34m)\u001b[0m\u001b[0;34m\u001b[0m\u001b[0;34m\u001b[0m\u001b[0m\n\u001b[0m\u001b[1;32m   5341\u001b[0m             \u001b[0mindexer\u001b[0m \u001b[0;34m=\u001b[0m \u001b[0mindexer\u001b[0m\u001b[0;34m[\u001b[0m\u001b[0;34m~\u001b[0m\u001b[0mmask\u001b[0m\u001b[0;34m]\u001b[0m\u001b[0;34m\u001b[0m\u001b[0;34m\u001b[0m\u001b[0m\n\u001b[1;32m   5342\u001b[0m         \u001b[0;32mreturn\u001b[0m \u001b[0mself\u001b[0m\u001b[0;34m.\u001b[0m\u001b[0mdelete\u001b[0m\u001b[0;34m(\u001b[0m\u001b[0mindexer\u001b[0m\u001b[0;34m)\u001b[0m\u001b[0;34m\u001b[0m\u001b[0;34m\u001b[0m\u001b[0m\n",
      "\u001b[0;31mKeyError\u001b[0m: \"['case_status' 'duration' 'wage_unit'] not found in axis\""
     ]
    }
   ],
   "source": [
    "df_clean = df_clean.drop(['case_status', 'duration', 'wage_unit'], axis=1)"
   ]
  },
  {
   "cell_type": "code",
   "execution_count": null,
   "metadata": {},
   "outputs": [],
   "source": []
  },
  {
   "cell_type": "code",
   "execution_count": 72,
   "metadata": {},
   "outputs": [],
   "source": [
    "df_clean=df_clean.iloc[: : 3, : ]"
   ]
  },
  {
   "cell_type": "code",
   "execution_count": 73,
   "metadata": {},
   "outputs": [
    {
     "name": "stdout",
     "output_type": "stream",
     "text": [
      "<class 'pandas.core.frame.DataFrame'>\n",
      "Int64Index: 10604 entries, 41889 to 119759\n",
      "Data columns (total 10 columns):\n",
      "employer_name                     10604 non-null object\n",
      "employer_state                    10604 non-null object\n",
      "employer_num_employees            10604 non-null float64\n",
      "employer_yr_estab                 10604 non-null object\n",
      "wage_level                        10604 non-null object\n",
      "wage_offer                        10604 non-null float64\n",
      "job_title                         10604 non-null object\n",
      "job_info_education                10604 non-null object\n",
      "job_info_experience_num_months    10604 non-null float64\n",
      "country_of_citizenship            10604 non-null object\n",
      "dtypes: float64(3), object(7)\n",
      "memory usage: 911.3+ KB\n"
     ]
    }
   ],
   "source": [
    "df_clean.info()"
   ]
  },
  {
   "cell_type": "code",
   "execution_count": 74,
   "metadata": {},
   "outputs": [],
   "source": [
    "df_clean[['employer_num_employees','wage_offer','job_info_experience_num_months']]=df_clean[['employer_num_employees','wage_offer','job_info_experience_num_months']].astype(int)"
   ]
  },
  {
   "cell_type": "code",
   "execution_count": 75,
   "metadata": {},
   "outputs": [
    {
     "name": "stdout",
     "output_type": "stream",
     "text": [
      "<class 'pandas.core.frame.DataFrame'>\n",
      "Int64Index: 10604 entries, 41889 to 119759\n",
      "Data columns (total 10 columns):\n",
      "employer_name                     10604 non-null object\n",
      "employer_state                    10604 non-null object\n",
      "employer_num_employees            10604 non-null int64\n",
      "employer_yr_estab                 10604 non-null object\n",
      "wage_level                        10604 non-null object\n",
      "wage_offer                        10604 non-null int64\n",
      "job_title                         10604 non-null object\n",
      "job_info_education                10604 non-null object\n",
      "job_info_experience_num_months    10604 non-null int64\n",
      "country_of_citizenship            10604 non-null object\n",
      "dtypes: int64(3), object(7)\n",
      "memory usage: 911.3+ KB\n"
     ]
    }
   ],
   "source": [
    "df_clean.info()"
   ]
  },
  {
   "cell_type": "code",
   "execution_count": 76,
   "metadata": {},
   "outputs": [
    {
     "data": {
      "text/html": [
       "<div>\n",
       "<style scoped>\n",
       "    .dataframe tbody tr th:only-of-type {\n",
       "        vertical-align: middle;\n",
       "    }\n",
       "\n",
       "    .dataframe tbody tr th {\n",
       "        vertical-align: top;\n",
       "    }\n",
       "\n",
       "    .dataframe thead th {\n",
       "        text-align: right;\n",
       "    }\n",
       "</style>\n",
       "<table border=\"1\" class=\"dataframe\">\n",
       "  <thead>\n",
       "    <tr style=\"text-align: right;\">\n",
       "      <th></th>\n",
       "      <th>employer_name</th>\n",
       "      <th>employer_state</th>\n",
       "      <th>employer_num_employees</th>\n",
       "      <th>employer_yr_estab</th>\n",
       "      <th>wage_level</th>\n",
       "      <th>wage_offer</th>\n",
       "      <th>job_title</th>\n",
       "      <th>job_info_education</th>\n",
       "      <th>job_info_experience_num_months</th>\n",
       "      <th>country_of_citizenship</th>\n",
       "    </tr>\n",
       "  </thead>\n",
       "  <tbody>\n",
       "    <tr>\n",
       "      <th>41889</th>\n",
       "      <td>FACEBOOK, INC.</td>\n",
       "      <td>CA</td>\n",
       "      <td>14765</td>\n",
       "      <td>2004.0</td>\n",
       "      <td>Level I</td>\n",
       "      <td>122949</td>\n",
       "      <td>Engineering Manager</td>\n",
       "      <td>Bachelor's</td>\n",
       "      <td>24</td>\n",
       "      <td>CHINA</td>\n",
       "    </tr>\n",
       "    <tr>\n",
       "      <th>41894</th>\n",
       "      <td>YSK GROUP INC</td>\n",
       "      <td>CO</td>\n",
       "      <td>1</td>\n",
       "      <td>2001.0</td>\n",
       "      <td>Level I</td>\n",
       "      <td>18762</td>\n",
       "      <td>CASHIER</td>\n",
       "      <td>None</td>\n",
       "      <td>24</td>\n",
       "      <td>SOUTH KOREA</td>\n",
       "    </tr>\n",
       "    <tr>\n",
       "      <th>41905</th>\n",
       "      <td>CITRIX SYSTEMS, INC.</td>\n",
       "      <td>FL</td>\n",
       "      <td>5110</td>\n",
       "      <td>1989.0</td>\n",
       "      <td>Level II</td>\n",
       "      <td>124675</td>\n",
       "      <td>Software Engineer</td>\n",
       "      <td>Master's</td>\n",
       "      <td>24</td>\n",
       "      <td>INDIA</td>\n",
       "    </tr>\n",
       "    <tr>\n",
       "      <th>41908</th>\n",
       "      <td>ANSYS, INC</td>\n",
       "      <td>PA</td>\n",
       "      <td>2800</td>\n",
       "      <td>1970.0</td>\n",
       "      <td>Level III</td>\n",
       "      <td>87818</td>\n",
       "      <td>Senior Software Developer</td>\n",
       "      <td>Master's</td>\n",
       "      <td>24</td>\n",
       "      <td>INDIA</td>\n",
       "    </tr>\n",
       "    <tr>\n",
       "      <th>41913</th>\n",
       "      <td>CHALLENGER SPORTS CORPORATION</td>\n",
       "      <td>KS</td>\n",
       "      <td>500</td>\n",
       "      <td>1997.0</td>\n",
       "      <td>Level II</td>\n",
       "      <td>27183</td>\n",
       "      <td>Regional Director</td>\n",
       "      <td>Bachelor's</td>\n",
       "      <td>24</td>\n",
       "      <td>UNITED KINGDOM</td>\n",
       "    </tr>\n",
       "  </tbody>\n",
       "</table>\n",
       "</div>"
      ],
      "text/plain": [
       "                       employer_name employer_state  employer_num_employees  \\\n",
       "41889                 FACEBOOK, INC.             CA                   14765   \n",
       "41894                  YSK GROUP INC             CO                       1   \n",
       "41905           CITRIX SYSTEMS, INC.             FL                    5110   \n",
       "41908                     ANSYS, INC             PA                    2800   \n",
       "41913  CHALLENGER SPORTS CORPORATION             KS                     500   \n",
       "\n",
       "      employer_yr_estab wage_level  wage_offer                  job_title  \\\n",
       "41889            2004.0    Level I      122949        Engineering Manager   \n",
       "41894            2001.0    Level I       18762                    CASHIER   \n",
       "41905            1989.0   Level II      124675          Software Engineer   \n",
       "41908            1970.0  Level III       87818  Senior Software Developer   \n",
       "41913            1997.0   Level II       27183          Regional Director   \n",
       "\n",
       "      job_info_education  job_info_experience_num_months  \\\n",
       "41889         Bachelor's                              24   \n",
       "41894               None                              24   \n",
       "41905           Master's                              24   \n",
       "41908           Master's                              24   \n",
       "41913         Bachelor's                              24   \n",
       "\n",
       "      country_of_citizenship  \n",
       "41889                  CHINA  \n",
       "41894            SOUTH KOREA  \n",
       "41905                  INDIA  \n",
       "41908                  INDIA  \n",
       "41913         UNITED KINGDOM  "
      ]
     },
     "execution_count": 76,
     "metadata": {},
     "output_type": "execute_result"
    }
   ],
   "source": [
    "df_clean.head()"
   ]
  },
  {
   "cell_type": "code",
   "execution_count": 77,
   "metadata": {},
   "outputs": [],
   "source": [
    "df_clean.drop('job_title', axis=1, inplace=True)"
   ]
  },
  {
   "cell_type": "code",
   "execution_count": 78,
   "metadata": {},
   "outputs": [
    {
     "name": "stdout",
     "output_type": "stream",
     "text": [
      "<class 'pandas.core.frame.DataFrame'>\n",
      "Int64Index: 10604 entries, 41889 to 119759\n",
      "Data columns (total 9 columns):\n",
      "employer_name                     10604 non-null object\n",
      "employer_state                    10604 non-null object\n",
      "employer_num_employees            10604 non-null int64\n",
      "employer_yr_estab                 10604 non-null object\n",
      "wage_level                        10604 non-null object\n",
      "wage_offer                        10604 non-null int64\n",
      "job_info_education                10604 non-null object\n",
      "job_info_experience_num_months    10604 non-null int64\n",
      "country_of_citizenship            10604 non-null object\n",
      "dtypes: int64(3), object(6)\n",
      "memory usage: 828.4+ KB\n"
     ]
    }
   ],
   "source": [
    "df_clean.info()"
   ]
  },
  {
   "cell_type": "code",
   "execution_count": 110,
   "metadata": {},
   "outputs": [
    {
     "data": {
      "text/plain": [
       "Index(['employer_num_employees', 'wage_offer',\n",
       "       'job_info_experience_num_months', 'employer_name_10312 LLC',\n",
       "       'employer_name_111 Great Nail, Inc.',\n",
       "       'employer_name_1700 BRICKELL CONDO LLC',\n",
       "       'employer_name_1STDIBS.COM, INC.', 'employer_name_24 HOUR FITNESS',\n",
       "       'employer_name_280 Technologies',\n",
       "       'employer_name_2KDirect, Inc. (dba iPromote)',\n",
       "       ...\n",
       "       'country_of_citizenship_UGANDA', 'country_of_citizenship_UKRAINE',\n",
       "       'country_of_citizenship_UNITED KINGDOM',\n",
       "       'country_of_citizenship_UNITED STATES OF AMERICA',\n",
       "       'country_of_citizenship_URUGUAY', 'country_of_citizenship_UZBEKISTAN',\n",
       "       'country_of_citizenship_VENEZUELA', 'country_of_citizenship_VIETNAM',\n",
       "       'country_of_citizenship_ZAMBIA', 'country_of_citizenship_ZIMBABWE'],\n",
       "      dtype='object', length=6238)"
      ]
     },
     "execution_count": 110,
     "metadata": {},
     "output_type": "execute_result"
    }
   ],
   "source": [
    "df_pre = pd.get_dummies(df_clean, drop_first=True)\n",
    "df_pre.columns"
   ]
  },
  {
   "cell_type": "markdown",
   "metadata": {},
   "source": [
    "# Visualization"
   ]
  },
  {
   "cell_type": "code",
   "execution_count": 80,
   "metadata": {},
   "outputs": [],
   "source": [
    "sns.set_style('whitegrid')"
   ]
  },
  {
   "cell_type": "code",
   "execution_count": 81,
   "metadata": {},
   "outputs": [
    {
     "data": {
      "image/png": "[encoded data removed]",
      "text/plain": [
       "<Figure size 720x720 with 20 Axes>"
      ]
     },
     "metadata": {},
     "output_type": "display_data"
    }
   ],
   "source": [
    "sns.pairplot(df_clean)\n",
    "plt.show()"
   ]
  },
  {
   "cell_type": "code",
   "execution_count": 82,
   "metadata": {},
   "outputs": [
    {
     "data": {
      "image/png": "[encoded data removed]",
      "text/plain": [
       "<Figure size 432x288 with 1 Axes>"
      ]
     },
     "metadata": {},
     "output_type": "display_data"
    }
   ],
   "source": [
    "df_clean['wage_offer'].hist(bins=20)\n",
    "plt.xlabel('Wage offer ($)')\n",
    "plt.ylabel('Frequency')\n",
    "plt.show()"
   ]
  },
  {
   "cell_type": "code",
   "execution_count": 83,
   "metadata": {},
   "outputs": [
    {
     "data": {
      "image/png": "[encoded data removed]",
      "text/plain": [
       "<Figure size 432x288 with 1 Axes>"
      ]
     },
     "metadata": {},
     "output_type": "display_data"
    }
   ],
   "source": [
    "df_clean['wage_level'].hist()\n",
    "plt.ylabel('Wage Levels')\n",
    "plt.ylabel('Frequency')\n",
    "plt.show()"
   ]
  },
  {
   "cell_type": "code",
   "execution_count": 84,
   "metadata": {},
   "outputs": [
    {
     "data": {
      "image/png": "[encoded data removed]",
      "text/plain": [
       "<Figure size 432x288 with 1 Axes>"
      ]
     },
     "metadata": {},
     "output_type": "display_data"
    }
   ],
   "source": [
    "df_clean['job_info_experience_num_months'].hist()\n",
    "plt.ylabel('Required Experience')\n",
    "plt.ylabel('Frequency')\n",
    "plt.show()"
   ]
  },
  {
   "cell_type": "code",
   "execution_count": 85,
   "metadata": {},
   "outputs": [
    {
     "data": {
      "image/png": "[encoded data removed]",
      "text/plain": [
       "<Figure size 432x288 with 1 Axes>"
      ]
     },
     "metadata": {},
     "output_type": "display_data"
    }
   ],
   "source": [
    "df_clean['employer_num_employees'].hist(bins=20)\n",
    "plt.ylabel('Employer number of employees')\n",
    "plt.ylabel('Frequency')\n",
    "plt.show()"
   ]
  },
  {
   "cell_type": "code",
   "execution_count": 86,
   "metadata": {},
   "outputs": [
    {
     "data": {
      "image/png": "[encoded data removed]",
      "text/plain": [
       "<Figure size 432x432 with 3 Axes>"
      ]
     },
     "metadata": {},
     "output_type": "display_data"
    }
   ],
   "source": [
    "sns.jointplot(x='employer_num_employees', y='wage_offer', data=df_clean)\n",
    "plt.show()"
   ]
  },
  {
   "cell_type": "code",
   "execution_count": 87,
   "metadata": {},
   "outputs": [
    {
     "data": {
      "image/png": "[encoded data removed]",
      "text/plain": [
       "<Figure size 360x360 with 1 Axes>"
      ]
     },
     "metadata": {},
     "output_type": "display_data"
    }
   ],
   "source": [
    "sns.lmplot(x='employer_num_employees', y='wage_offer', data=df_clean)\n",
    "\n",
    "plt.xlabel('Number of employees')\n",
    "plt.ylabel('Wage offer')\n",
    "plt.title('Wage offer and number of employees')\n",
    "\n",
    "plt.show()"
   ]
  },
  {
   "cell_type": "code",
   "execution_count": 88,
   "metadata": {},
   "outputs": [
    {
     "data": {
      "text/html": [
       "<div>\n",
       "<style scoped>\n",
       "    .dataframe tbody tr th:only-of-type {\n",
       "        vertical-align: middle;\n",
       "    }\n",
       "\n",
       "    .dataframe tbody tr th {\n",
       "        vertical-align: top;\n",
       "    }\n",
       "\n",
       "    .dataframe thead th {\n",
       "        text-align: right;\n",
       "    }\n",
       "</style>\n",
       "<table border=\"1\" class=\"dataframe\">\n",
       "  <thead>\n",
       "    <tr style=\"text-align: right;\">\n",
       "      <th></th>\n",
       "      <th>employer_num_employees</th>\n",
       "      <th>wage_offer</th>\n",
       "      <th>job_info_experience_num_months</th>\n",
       "    </tr>\n",
       "  </thead>\n",
       "  <tbody>\n",
       "    <tr>\n",
       "      <th>employer_num_employees</th>\n",
       "      <td>1.000000</td>\n",
       "      <td>0.136347</td>\n",
       "      <td>NaN</td>\n",
       "    </tr>\n",
       "    <tr>\n",
       "      <th>wage_offer</th>\n",
       "      <td>0.136347</td>\n",
       "      <td>1.000000</td>\n",
       "      <td>NaN</td>\n",
       "    </tr>\n",
       "    <tr>\n",
       "      <th>job_info_experience_num_months</th>\n",
       "      <td>NaN</td>\n",
       "      <td>NaN</td>\n",
       "      <td>NaN</td>\n",
       "    </tr>\n",
       "  </tbody>\n",
       "</table>\n",
       "</div>"
      ],
      "text/plain": [
       "                                employer_num_employees  wage_offer  \\\n",
       "employer_num_employees                        1.000000    0.136347   \n",
       "wage_offer                                    0.136347    1.000000   \n",
       "job_info_experience_num_months                     NaN         NaN   \n",
       "\n",
       "                                job_info_experience_num_months  \n",
       "employer_num_employees                                     NaN  \n",
       "wage_offer                                                 NaN  \n",
       "job_info_experience_num_months                             NaN  "
      ]
     },
     "execution_count": 88,
     "metadata": {},
     "output_type": "execute_result"
    }
   ],
   "source": [
    "df_clean.corr()"
   ]
  },
  {
   "cell_type": "markdown",
   "metadata": {},
   "source": [
    "# Random Forest"
   ]
  },
  {
   "cell_type": "code",
   "execution_count": 260,
   "metadata": {},
   "outputs": [],
   "source": [
    "from sklearn.model_selection import train_test_split\n",
    "X = df_pre.drop(['wage_offer'], axis=1)\n",
    "y = df_pre['wage_offer']\n",
    "\n",
    "X_train, X_test, y_train, y_test = train_test_split(X, y, test_size=0.3, random_state=21)"
   ]
  },
  {
   "cell_type": "code",
   "execution_count": 261,
   "metadata": {},
   "outputs": [
    {
     "name": "stderr",
     "output_type": "stream",
     "text": [
      "/Users/poyraz/anaconda3/lib/python3.7/site-packages/sklearn/ensemble/forest.py:245: FutureWarning: The default value of n_estimators will change from 10 in version 0.20 to 100 in 0.22.\n",
      "  \"10 in version 0.20 to 100 in 0.22.\", FutureWarning)\n"
     ]
    },
    {
     "data": {
      "text/plain": [
       "RandomForestRegressor(bootstrap=True, criterion='mse', max_depth=None,\n",
       "                      max_features='auto', max_leaf_nodes=None,\n",
       "                      min_impurity_decrease=0.0, min_impurity_split=None,\n",
       "                      min_samples_leaf=1, min_samples_split=2,\n",
       "                      min_weight_fraction_leaf=0.0, n_estimators=10,\n",
       "                      n_jobs=None, oob_score=False, random_state=None,\n",
       "                      verbose=0, warm_start=False)"
      ]
     },
     "execution_count": 261,
     "metadata": {},
     "output_type": "execute_result"
    }
   ],
   "source": [
    "from sklearn.metrics import accuracy_score\n",
    "from sklearn.model_selection import train_test_split, StratifiedKFold, GridSearchCV, cross_val_score\n",
    "from sklearn.ensemble import RandomForestRegressor\n",
    "\n",
    "#Setup the RF object\n",
    "rf = RandomForestRegressor()\n",
    "rf.fit(X_train, y_train)"
   ]
  },
  {
   "cell_type": "code",
   "execution_count": 262,
   "metadata": {},
   "outputs": [],
   "source": [
    "y_pred = rf.predict(X_test)"
   ]
  },
  {
   "cell_type": "code",
   "execution_count": 263,
   "metadata": {},
   "outputs": [
    {
     "data": {
      "image/png": "[encoded data removed]",
      "text/plain": [
       "<Figure size 1152x720 with 1 Axes>"
      ]
     },
     "metadata": {},
     "output_type": "display_data"
    }
   ],
   "source": [
    "# Feature importance as a \n",
    "plt.figure(figsize=(16, 10))\n",
    "feat_importances = pd.Series(rf.feature_importances_, index=X_train.columns)\n",
    "feat_importances.nlargest(15).plot(kind='barh')\n",
    "plt.show()"
   ]
  },
  {
   "cell_type": "code",
   "execution_count": 266,
   "metadata": {},
   "outputs": [
    {
     "name": "stdout",
     "output_type": "stream",
     "text": [
      "Root Mean Squared Error: 19682.581869057245\n"
     ]
    }
   ],
   "source": [
    "# Compute and print R^2 and RMSE\n",
    "\n",
    "rmse = np.sqrt(mean_squared_error(y_test, y_pred))\n",
    "print(\"Root Mean Squared Error: {}\".format(rmse))"
   ]
  },
  {
   "cell_type": "code",
   "execution_count": null,
   "metadata": {},
   "outputs": [],
   "source": []
  },
  {
   "cell_type": "code",
   "execution_count": 162,
   "metadata": {},
   "outputs": [],
   "source": [
    "df_dt=df.drop(['decision_date', 'case_received_date', 'case_number'], axis=1)"
   ]
  },
  {
   "cell_type": "code",
   "execution_count": 164,
   "metadata": {},
   "outputs": [
    {
     "name": "stdout",
     "output_type": "stream",
     "text": [
      "<class 'pandas.core.frame.DataFrame'>\n",
      "RangeIndex: 119769 entries, 0 to 119768\n",
      "Data columns (total 13 columns):\n",
      "case_status                       119769 non-null object\n",
      "employer_name                     119769 non-null object\n",
      "employer_state                    119761 non-null object\n",
      "employer_num_employees            119769 non-null float64\n",
      "employer_yr_estab                 119769 non-null object\n",
      "wage_level                        111382 non-null object\n",
      "wage_offer                        119769 non-null float64\n",
      "wage_unit                         119725 non-null object\n",
      "job_title                         119731 non-null object\n",
      "job_info_education                119760 non-null object\n",
      "job_info_experience_num_months    119769 non-null float64\n",
      "country_of_citizenship            119758 non-null object\n",
      "duration                          119769 non-null timedelta64[ns]\n",
      "dtypes: float64(3), object(9), timedelta64[ns](1)\n",
      "memory usage: 11.9+ MB\n"
     ]
    }
   ],
   "source": [
    "df_dt.info()"
   ]
  },
  {
   "cell_type": "code",
   "execution_count": 166,
   "metadata": {},
   "outputs": [],
   "source": [
    "df_dt=df_dt.dropna()"
   ]
  },
  {
   "cell_type": "code",
   "execution_count": 167,
   "metadata": {},
   "outputs": [
    {
     "name": "stderr",
     "output_type": "stream",
     "text": [
      "/Users/poyraz/anaconda3/lib/python3.7/site-packages/ipykernel_launcher.py:3: SettingWithCopyWarning: \n",
      "A value is trying to be set on a copy of a slice from a DataFrame\n",
      "\n",
      "See the caveats in the documentation: http://pandas.pydata.org/pandas-docs/stable/user_guide/indexing.html#returning-a-view-versus-a-copy\n",
      "  This is separate from the ipykernel package so we can avoid doing imports until\n",
      "/Users/poyraz/anaconda3/lib/python3.7/site-packages/ipykernel_launcher.py:4: SettingWithCopyWarning: \n",
      "A value is trying to be set on a copy of a slice from a DataFrame\n",
      "\n",
      "See the caveats in the documentation: http://pandas.pydata.org/pandas-docs/stable/user_guide/indexing.html#returning-a-view-versus-a-copy\n",
      "  after removing the cwd from sys.path.\n"
     ]
    }
   ],
   "source": [
    "wage_units = df_clean['wage_unit'].unique()\n",
    "df_dt['wage_offer'][df_dt['wage_unit'] == 'Month']  = df_dt[df_dt['wage_unit'] == 'Month']['wage_offer'] * 12\n",
    "df_dt['wage_offer'][df_dt['wage_unit'] == 'Week']  = df_dt[df_dt['wage_unit'] == 'Week']['wage_offer'] * 52\n",
    "df_dt['wage_offer'][df_dt['wage_unit'] == 'Hour']  = df_dt[df_dt['wage_unit'] == 'Hour']['wage_offer']*2080"
   ]
  },
  {
   "cell_type": "code",
   "execution_count": 168,
   "metadata": {},
   "outputs": [],
   "source": [
    "df_dt = df_dt.loc[df['case_status']=='Certified',:]"
   ]
  },
  {
   "cell_type": "code",
   "execution_count": 170,
   "metadata": {},
   "outputs": [
    {
     "name": "stdout",
     "output_type": "stream",
     "text": [
      "<class 'pandas.core.frame.DataFrame'>\n",
      "Int64Index: 67234 entries, 41886 to 119763\n",
      "Data columns (total 13 columns):\n",
      "case_status                       67234 non-null object\n",
      "employer_name                     67234 non-null object\n",
      "employer_state                    67234 non-null object\n",
      "employer_num_employees            67234 non-null float64\n",
      "employer_yr_estab                 67234 non-null object\n",
      "wage_level                        67234 non-null object\n",
      "wage_offer                        67234 non-null float64\n",
      "wage_unit                         67234 non-null object\n",
      "job_title                         67234 non-null object\n",
      "job_info_education                67234 non-null object\n",
      "job_info_experience_num_months    67234 non-null float64\n",
      "country_of_citizenship            67234 non-null object\n",
      "duration                          67234 non-null timedelta64[ns]\n",
      "dtypes: float64(3), object(9), timedelta64[ns](1)\n",
      "memory usage: 7.2+ MB\n"
     ]
    }
   ],
   "source": [
    "df_dt.info()"
   ]
  },
  {
   "cell_type": "code",
   "execution_count": 173,
   "metadata": {},
   "outputs": [],
   "source": [
    "df_dt=df_dt.drop(['case_status','job_title','duration'], axis=1)"
   ]
  },
  {
   "cell_type": "code",
   "execution_count": 182,
   "metadata": {},
   "outputs": [
    {
     "name": "stdout",
     "output_type": "stream",
     "text": [
      "<class 'pandas.core.frame.DataFrame'>\n",
      "Int64Index: 67234 entries, 41886 to 119763\n",
      "Data columns (total 10 columns):\n",
      "employer_name                     67234 non-null object\n",
      "employer_state                    67234 non-null object\n",
      "employer_num_employees            67234 non-null float64\n",
      "employer_yr_estab                 67234 non-null object\n",
      "wage_level                        67234 non-null object\n",
      "wage_offer                        67234 non-null float64\n",
      "wage_unit                         67234 non-null object\n",
      "job_info_education                67234 non-null object\n",
      "job_info_experience_num_months    67234 non-null float64\n",
      "country_of_citizenship            67234 non-null object\n",
      "dtypes: float64(3), object(7)\n",
      "memory usage: 5.6+ MB\n"
     ]
    }
   ],
   "source": [
    "df_dt.info()"
   ]
  },
  {
   "cell_type": "code",
   "execution_count": 183,
   "metadata": {},
   "outputs": [],
   "source": [
    "df_dt.drop('wage_unit', axis=1, inplace=True)"
   ]
  },
  {
   "cell_type": "code",
   "execution_count": 218,
   "metadata": {},
   "outputs": [],
   "source": [
    "df_1=df_dt.iloc[: : 3, :]"
   ]
  },
  {
   "cell_type": "code",
   "execution_count": 219,
   "metadata": {},
   "outputs": [
    {
     "name": "stdout",
     "output_type": "stream",
     "text": [
      "<class 'pandas.core.frame.DataFrame'>\n",
      "Int64Index: 22412 entries, 41886 to 119763\n",
      "Data columns (total 9 columns):\n",
      "employer_name                     22412 non-null object\n",
      "employer_state                    22412 non-null object\n",
      "employer_num_employees            22412 non-null float64\n",
      "employer_yr_estab                 22412 non-null object\n",
      "wage_level                        22412 non-null object\n",
      "wage_offer                        22412 non-null float64\n",
      "job_info_education                22412 non-null object\n",
      "job_info_experience_num_months    22412 non-null float64\n",
      "country_of_citizenship            22412 non-null object\n",
      "dtypes: float64(3), object(6)\n",
      "memory usage: 1.7+ MB\n"
     ]
    }
   ],
   "source": [
    "df_1.info()"
   ]
  },
  {
   "cell_type": "code",
   "execution_count": null,
   "metadata": {},
   "outputs": [],
   "source": []
  },
  {
   "cell_type": "code",
   "execution_count": 252,
   "metadata": {},
   "outputs": [],
   "source": [
    "ef=pd.get_dummies(df_1[['wage_level','job_info_education']] , drop_first=True)"
   ]
  },
  {
   "cell_type": "code",
   "execution_count": 253,
   "metadata": {},
   "outputs": [
    {
     "data": {
      "text/html": [
       "<div>\n",
       "<style scoped>\n",
       "    .dataframe tbody tr th:only-of-type {\n",
       "        vertical-align: middle;\n",
       "    }\n",
       "\n",
       "    .dataframe tbody tr th {\n",
       "        vertical-align: top;\n",
       "    }\n",
       "\n",
       "    .dataframe thead th {\n",
       "        text-align: right;\n",
       "    }\n",
       "</style>\n",
       "<table border=\"1\" class=\"dataframe\">\n",
       "  <thead>\n",
       "    <tr style=\"text-align: right;\">\n",
       "      <th></th>\n",
       "      <th>employer_name</th>\n",
       "      <th>employer_state</th>\n",
       "      <th>employer_num_employees</th>\n",
       "      <th>employer_yr_estab</th>\n",
       "      <th>wage_level</th>\n",
       "      <th>wage_offer</th>\n",
       "      <th>job_info_education</th>\n",
       "      <th>job_info_experience_num_months</th>\n",
       "      <th>country_of_citizenship</th>\n",
       "    </tr>\n",
       "  </thead>\n",
       "  <tbody>\n",
       "    <tr>\n",
       "      <th>41886</th>\n",
       "      <td>AMAZON CORPORATE LLC</td>\n",
       "      <td>WA</td>\n",
       "      <td>341400.0</td>\n",
       "      <td>1999.0</td>\n",
       "      <td>Level II</td>\n",
       "      <td>100942.0</td>\n",
       "      <td>Bachelor's</td>\n",
       "      <td>12.0</td>\n",
       "      <td>CHINA</td>\n",
       "    </tr>\n",
       "    <tr>\n",
       "      <th>41889</th>\n",
       "      <td>FACEBOOK, INC.</td>\n",
       "      <td>CA</td>\n",
       "      <td>14765.0</td>\n",
       "      <td>2004.0</td>\n",
       "      <td>Level I</td>\n",
       "      <td>122949.0</td>\n",
       "      <td>Bachelor's</td>\n",
       "      <td>24.0</td>\n",
       "      <td>CHINA</td>\n",
       "    </tr>\n",
       "    <tr>\n",
       "      <th>41892</th>\n",
       "      <td>ERNST &amp; YOUNG U.S. LLP</td>\n",
       "      <td>NJ</td>\n",
       "      <td>40000.0</td>\n",
       "      <td>1989.0</td>\n",
       "      <td>Level IV</td>\n",
       "      <td>103813.0</td>\n",
       "      <td>Bachelor's</td>\n",
       "      <td>60.0</td>\n",
       "      <td>INDIA</td>\n",
       "    </tr>\n",
       "    <tr>\n",
       "      <th>41895</th>\n",
       "      <td>AMAZON CORPORATE LLC</td>\n",
       "      <td>WA</td>\n",
       "      <td>341400.0</td>\n",
       "      <td>1999.0</td>\n",
       "      <td>Level II</td>\n",
       "      <td>100942.0</td>\n",
       "      <td>Master's</td>\n",
       "      <td>12.0</td>\n",
       "      <td>INDIA</td>\n",
       "    </tr>\n",
       "    <tr>\n",
       "      <th>41898</th>\n",
       "      <td>COMPSYCH MANAGEMENT CORPORATION</td>\n",
       "      <td>IL</td>\n",
       "      <td>725.0</td>\n",
       "      <td>1990.0</td>\n",
       "      <td>Level II</td>\n",
       "      <td>83366.0</td>\n",
       "      <td>Master's</td>\n",
       "      <td>24.0</td>\n",
       "      <td>INDIA</td>\n",
       "    </tr>\n",
       "  </tbody>\n",
       "</table>\n",
       "</div>"
      ],
      "text/plain": [
       "                         employer_name employer_state  employer_num_employees  \\\n",
       "41886             AMAZON CORPORATE LLC             WA                341400.0   \n",
       "41889                   FACEBOOK, INC.             CA                 14765.0   \n",
       "41892           ERNST & YOUNG U.S. LLP             NJ                 40000.0   \n",
       "41895             AMAZON CORPORATE LLC             WA                341400.0   \n",
       "41898  COMPSYCH MANAGEMENT CORPORATION             IL                   725.0   \n",
       "\n",
       "      employer_yr_estab wage_level  wage_offer job_info_education  \\\n",
       "41886            1999.0   Level II    100942.0         Bachelor's   \n",
       "41889            2004.0    Level I    122949.0         Bachelor's   \n",
       "41892            1989.0   Level IV    103813.0         Bachelor's   \n",
       "41895            1999.0   Level II    100942.0           Master's   \n",
       "41898            1990.0   Level II     83366.0           Master's   \n",
       "\n",
       "       job_info_experience_num_months country_of_citizenship  \n",
       "41886                            12.0                  CHINA  \n",
       "41889                            24.0                  CHINA  \n",
       "41892                            60.0                  INDIA  \n",
       "41895                            12.0                  INDIA  \n",
       "41898                            24.0                  INDIA  "
      ]
     },
     "execution_count": 253,
     "metadata": {},
     "output_type": "execute_result"
    }
   ],
   "source": [
    "df_1.head()"
   ]
  },
  {
   "cell_type": "code",
   "execution_count": 254,
   "metadata": {},
   "outputs": [
    {
     "data": {
      "text/html": [
       "<div>\n",
       "<style scoped>\n",
       "    .dataframe tbody tr th:only-of-type {\n",
       "        vertical-align: middle;\n",
       "    }\n",
       "\n",
       "    .dataframe tbody tr th {\n",
       "        vertical-align: top;\n",
       "    }\n",
       "\n",
       "    .dataframe thead th {\n",
       "        text-align: right;\n",
       "    }\n",
       "</style>\n",
       "<table border=\"1\" class=\"dataframe\">\n",
       "  <thead>\n",
       "    <tr style=\"text-align: right;\">\n",
       "      <th></th>\n",
       "      <th>wage_level_Level II</th>\n",
       "      <th>wage_level_Level III</th>\n",
       "      <th>wage_level_Level IV</th>\n",
       "      <th>job_info_education_Bachelor's</th>\n",
       "      <th>job_info_education_Doctorate</th>\n",
       "      <th>job_info_education_High School</th>\n",
       "      <th>job_info_education_Master's</th>\n",
       "      <th>job_info_education_None</th>\n",
       "      <th>job_info_education_Other</th>\n",
       "    </tr>\n",
       "  </thead>\n",
       "  <tbody>\n",
       "    <tr>\n",
       "      <th>41886</th>\n",
       "      <td>1</td>\n",
       "      <td>0</td>\n",
       "      <td>0</td>\n",
       "      <td>1</td>\n",
       "      <td>0</td>\n",
       "      <td>0</td>\n",
       "      <td>0</td>\n",
       "      <td>0</td>\n",
       "      <td>0</td>\n",
       "    </tr>\n",
       "    <tr>\n",
       "      <th>41889</th>\n",
       "      <td>0</td>\n",
       "      <td>0</td>\n",
       "      <td>0</td>\n",
       "      <td>1</td>\n",
       "      <td>0</td>\n",
       "      <td>0</td>\n",
       "      <td>0</td>\n",
       "      <td>0</td>\n",
       "      <td>0</td>\n",
       "    </tr>\n",
       "    <tr>\n",
       "      <th>41892</th>\n",
       "      <td>0</td>\n",
       "      <td>0</td>\n",
       "      <td>1</td>\n",
       "      <td>1</td>\n",
       "      <td>0</td>\n",
       "      <td>0</td>\n",
       "      <td>0</td>\n",
       "      <td>0</td>\n",
       "      <td>0</td>\n",
       "    </tr>\n",
       "    <tr>\n",
       "      <th>41895</th>\n",
       "      <td>1</td>\n",
       "      <td>0</td>\n",
       "      <td>0</td>\n",
       "      <td>0</td>\n",
       "      <td>0</td>\n",
       "      <td>0</td>\n",
       "      <td>1</td>\n",
       "      <td>0</td>\n",
       "      <td>0</td>\n",
       "    </tr>\n",
       "    <tr>\n",
       "      <th>41898</th>\n",
       "      <td>1</td>\n",
       "      <td>0</td>\n",
       "      <td>0</td>\n",
       "      <td>0</td>\n",
       "      <td>0</td>\n",
       "      <td>0</td>\n",
       "      <td>1</td>\n",
       "      <td>0</td>\n",
       "      <td>0</td>\n",
       "    </tr>\n",
       "  </tbody>\n",
       "</table>\n",
       "</div>"
      ],
      "text/plain": [
       "       wage_level_Level II  wage_level_Level III  wage_level_Level IV  \\\n",
       "41886                    1                     0                    0   \n",
       "41889                    0                     0                    0   \n",
       "41892                    0                     0                    1   \n",
       "41895                    1                     0                    0   \n",
       "41898                    1                     0                    0   \n",
       "\n",
       "       job_info_education_Bachelor's  job_info_education_Doctorate  \\\n",
       "41886                              1                             0   \n",
       "41889                              1                             0   \n",
       "41892                              1                             0   \n",
       "41895                              0                             0   \n",
       "41898                              0                             0   \n",
       "\n",
       "       job_info_education_High School  job_info_education_Master's  \\\n",
       "41886                               0                            0   \n",
       "41889                               0                            0   \n",
       "41892                               0                            0   \n",
       "41895                               0                            1   \n",
       "41898                               0                            1   \n",
       "\n",
       "       job_info_education_None  job_info_education_Other  \n",
       "41886                        0                         0  \n",
       "41889                        0                         0  \n",
       "41892                        0                         0  \n",
       "41895                        0                         0  \n",
       "41898                        0                         0  "
      ]
     },
     "execution_count": 254,
     "metadata": {},
     "output_type": "execute_result"
    }
   ],
   "source": [
    "ef.head()"
   ]
  },
  {
   "cell_type": "code",
   "execution_count": 255,
   "metadata": {},
   "outputs": [],
   "source": [
    "from sklearn.model_selection import train_test_split\n",
    "X = ef\n",
    "y = df_1[['wage_offer']]"
   ]
  },
  {
   "cell_type": "code",
   "execution_count": 256,
   "metadata": {},
   "outputs": [
    {
     "data": {
      "text/plain": [
       "0.10194029935317038"
      ]
     },
     "execution_count": 256,
     "metadata": {},
     "output_type": "execute_result"
    }
   ],
   "source": [
    "\n",
    "from sklearn.linear_model import LinearRegression\n",
    "X_train, X_test, y_train, y_test = train_test_split(X,y, test_size=0.3, random_state=42)\n",
    "\n",
    "reg=LinearRegression()\n",
    "reg.fit(X_train, y_train)\n",
    "y_pred=reg.predict(X_test)\n",
    "\n",
    "reg.score(X_test, y_test)"
   ]
  },
  {
   "cell_type": "code",
   "execution_count": 257,
   "metadata": {},
   "outputs": [],
   "source": [
    "from sklearn.metrics import mean_squared_error"
   ]
  },
  {
   "cell_type": "code",
   "execution_count": 259,
   "metadata": {},
   "outputs": [
    {
     "name": "stdout",
     "output_type": "stream",
     "text": [
      "R^2: 0.10194029935317038\n",
      "Root Mean Squared Error: 78805.32006038871\n"
     ]
    }
   ],
   "source": [
    "# Compute and print R^2 and RMSE\n",
    "print(\"R^2: {}\".format(reg.score(X_test, y_test)))\n",
    "rmse = np.sqrt(mean_squared_error(y_test, y_pred))\n",
    "print(\"Root Mean Squared Error: {}\".format(rmse))"
   ]
  },
  {
   "cell_type": "code",
   "execution_count": null,
   "metadata": {},
   "outputs": [],
   "source": []
  },
  {
   "cell_type": "code",
   "execution_count": null,
   "metadata": {},
   "outputs": [],
   "source": []
  },
  {
   "cell_type": "code",
   "execution_count": null,
   "metadata": {},
   "outputs": [],
   "source": []
  },
  {
   "cell_type": "code",
   "execution_count": null,
   "metadata": {},
   "outputs": [],
   "source": []
  },
  {
   "cell_type": "code",
   "execution_count": null,
   "metadata": {},
   "outputs": [],
   "source": []
  },
  {
   "cell_type": "code",
   "execution_count": null,
   "metadata": {},
   "outputs": [],
   "source": []
  },
  {
   "cell_type": "code",
   "execution_count": null,
   "metadata": {},
   "outputs": [],
   "source": []
  },
  {
   "cell_type": "code",
   "execution_count": null,
   "metadata": {},
   "outputs": [],
   "source": []
  },
  {
   "cell_type": "code",
   "execution_count": null,
   "metadata": {},
   "outputs": [],
   "source": []
  }
 ],
 "metadata": {
  "kernelspec": {
   "display_name": "Python 3",
   "language": "python",
   "name": "python3"
  },
  "language_info": {
   "codemirror_mode": {
    "name": "ipython",
    "version": 3
   },
   "file_extension": ".py",
   "mimetype": "text/x-python",
   "name": "python",
   "nbconvert_exporter": "python",
   "pygments_lexer": "ipython3",
   "version": "3.7.1"
  }
 },
 "nbformat": 4,
 "nbformat_minor": 2
}
